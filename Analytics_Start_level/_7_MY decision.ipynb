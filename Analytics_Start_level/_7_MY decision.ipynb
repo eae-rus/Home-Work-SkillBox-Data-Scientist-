{
 "cells": [
  {
   "cell_type": "markdown",
   "metadata": {
    "colab_type": "text",
    "id": "fm2YWUGvts2-"
   },
   "source": [
    "# Функции\n",
    "### Домашнее задание"
   ]
  },
  {
   "cell_type": "code",
   "execution_count": 43,
   "metadata": {},
   "outputs": [
    {
     "name": "stdout",
     "output_type": "stream",
     "text": [
      "[90400, 45200, 6030, 452]\n"
     ]
    }
   ],
   "source": [
    "import csv\n",
    "# name.csv ниже нужно заменить на название csv файла, который вы хотите открыть\n",
    "file_path = 'click_stream3.csv'\n",
    "with open(file_path, mode='r') as csv_file: # открываем файл\n",
    "    csv_reader = csv.DictReader(csv_file, fieldnames=['ID','page','date']) # читаем файл\n",
    "    \n",
    "    pages_count = [0, 0, 0, 0]\n",
    "    \n",
    "    for row in csv_reader: #перебираем по одной строчке нашего файла\n",
    "        page = list(row.items())[1][1] #так можно получить первый (не нулевой) элемент строки -\n",
    "        # для нашего датасета это строка, указывающая, на какой страничке было совершено действие\n",
    "\n",
    "        #ваш код для расчета воронки\n",
    "        \n",
    "        page_str = list(row.items())[0][1].split(\";\")[1]\n",
    "        if page_str == '1_home_page':\n",
    "            pages_count[0]+=1\n",
    "        elif page_str == '2_search_page':\n",
    "            pages_count[1]+=1\n",
    "        elif page_str == '3_payment_page':\n",
    "            pages_count[2]+=1\n",
    "        else: #'4_payment_confirmation_page'\n",
    "            pages_count[3]+=1\n",
    "    print(pages_count)"
   ]
  },
  {
   "cell_type": "code",
   "execution_count": 53,
   "metadata": {},
   "outputs": [
    {
     "data": {
      "text/plain": [
       "['892101', '4_payment_confirmation_page', '2015-01-06', 'Desktop', 'Male']"
      ]
     },
     "execution_count": 53,
     "metadata": {},
     "output_type": "execute_result"
    }
   ],
   "source": [
    "# изучение файлов (поиск страницы)\n",
    "list(row.items())[0][1].split(\";\")"
   ]
  },
  {
   "cell_type": "code",
   "execution_count": 41,
   "metadata": {},
   "outputs": [
    {
     "data": {
      "text/plain": [
       "'4_payment_confirmation_page'"
      ]
     },
     "execution_count": 41,
     "metadata": {},
     "output_type": "execute_result"
    }
   ],
   "source": [
    "# изучение файлов (поиск страницы)\n",
    "list(row.items())[0][1].split(\";\")[1]"
   ]
  },
  {
   "cell_type": "code",
   "execution_count": 49,
   "metadata": {},
   "outputs": [
    {
     "data": {
      "text/plain": [
       "'01'"
      ]
     },
     "execution_count": 49,
     "metadata": {},
     "output_type": "execute_result"
    }
   ],
   "source": [
    "# изучение файлов (поиск месяца)\n",
    "list(row.items())[0][1].split(\";\")[2].split(\"-\")[1]"
   ]
  },
  {
   "cell_type": "code",
   "execution_count": 55,
   "metadata": {},
   "outputs": [
    {
     "data": {
      "text/plain": [
       "'Desktop'"
      ]
     },
     "execution_count": 55,
     "metadata": {},
     "output_type": "execute_result"
    }
   ],
   "source": [
    "# изучение файлов (поиск устройство)\n",
    "list(row.items())[0][1].split(\";\")[3]"
   ]
  },
  {
   "cell_type": "code",
   "execution_count": 81,
   "metadata": {},
   "outputs": [
    {
     "data": {
      "text/plain": [
       "'Female'"
      ]
     },
     "execution_count": 81,
     "metadata": {},
     "output_type": "execute_result"
    }
   ],
   "source": [
    "# изучение файлов (поиск устройство)\n",
    "list(row.items())[0][1].split(\";\")[4]"
   ]
  },
  {
   "cell_type": "markdown",
   "metadata": {},
   "source": [
    "Решение более оптимальное (шаг 1)"
   ]
  },
  {
   "cell_type": "code",
   "execution_count": 82,
   "metadata": {},
   "outputs": [
    {
     "name": "stdout",
     "output_type": "stream",
     "text": [
      "{('1_home_page', '02', 'Desktop', 'Female'): 7448, ('1_home_page', '02', 'Desktop', 'Male'): 7602, ('1_home_page', '03', 'Desktop', 'Female'): 7512, ('1_home_page', '03', 'Desktop', 'Male'): 7538, ('1_home_page', '01', 'Desktop', 'Female'): 7546, ('1_home_page', '01', 'Mobile', 'Male'): 3682, ('1_home_page', '04', 'Mobile', 'Female'): 3721, ('1_home_page', '04', 'Desktop', 'Male'): 7559, ('1_home_page', '03', 'Mobile', 'Female'): 3738, ('1_home_page', '01', 'Desktop', 'Male'): 7504, ('1_home_page', '04', 'Mobile', 'Male'): 3829, ('1_home_page', '03', 'Mobile', 'Male'): 3812, ('1_home_page', '02', 'Mobile', 'Female'): 3751, ('1_home_page', '04', 'Desktop', 'Female'): 7491, ('1_home_page', '01', 'Mobile', 'Female'): 3868, ('1_home_page', '02', 'Mobile', 'Male'): 3799, ('2_search_page', '03', 'Desktop', 'Male'): 3663, ('2_search_page', '04', 'Mobile', 'Male'): 755, ('2_search_page', '03', 'Desktop', 'Female'): 3707, ('2_search_page', '01', 'Mobile', 'Female'): 3062, ('2_search_page', '02', 'Desktop', 'Male'): 3832, ('2_search_page', '04', 'Desktop', 'Female'): 3733, ('2_search_page', '01', 'Desktop', 'Female'): 3851, ('2_search_page', '04', 'Mobile', 'Female'): 756, ('2_search_page', '02', 'Desktop', 'Female'): 3800, ('2_search_page', '02', 'Mobile', 'Female'): 3020, ('2_search_page', '03', 'Mobile', 'Male'): 762, ('2_search_page', '04', 'Desktop', 'Male'): 3836, ('2_search_page', '01', 'Mobile', 'Male'): 2963, ('2_search_page', '01', 'Desktop', 'Male'): 3678, ('2_search_page', '02', 'Mobile', 'Male'): 3035, ('2_search_page', '03', 'Mobile', 'Female'): 747, ('3_payment_page', '01', 'Desktop', 'Female'): 625, ('3_payment_page', '01', 'Mobile', 'Male'): 551, ('3_payment_page', '02', 'Mobile', 'Male'): 591, ('3_payment_page', '02', 'Desktop', 'Male'): 586, ('3_payment_page', '02', 'Mobile', 'Female'): 630, ('3_payment_page', '02', 'Desktop', 'Female'): 605, ('3_payment_page', '03', 'Desktop', 'Male'): 134, ('3_payment_page', '04', 'Mobile', 'Male'): 148, ('3_payment_page', '01', 'Mobile', 'Female'): 618, ('3_payment_page', '04', 'Desktop', 'Male'): 164, ('3_payment_page', '03', 'Desktop', 'Female'): 162, ('3_payment_page', '01', 'Desktop', 'Male'): 596, ('3_payment_page', '04', 'Mobile', 'Female'): 147, ('3_payment_page', '03', 'Mobile', 'Female'): 175, ('3_payment_page', '03', 'Mobile', 'Male'): 160, ('3_payment_page', '04', 'Desktop', 'Female'): 138, ('4_payment_confirmation_page', '02', 'Desktop', 'Female'): 26, ('4_payment_confirmation_page', '03', 'Mobile', 'Female'): 20, ('4_payment_confirmation_page', '01', 'Mobile', 'Female'): 76, ('4_payment_confirmation_page', '02', 'Mobile', 'Female'): 60, ('4_payment_confirmation_page', '02', 'Desktop', 'Male'): 28, ('4_payment_confirmation_page', '02', 'Mobile', 'Male'): 59, ('4_payment_confirmation_page', '01', 'Desktop', 'Male'): 27, ('4_payment_confirmation_page', '04', 'Desktop', 'Female'): 9, ('4_payment_confirmation_page', '01', 'Desktop', 'Female'): 33, ('4_payment_confirmation_page', '01', 'Mobile', 'Male'): 53, ('4_payment_confirmation_page', '04', 'Desktop', 'Male'): 13, ('4_payment_confirmation_page', '04', 'Mobile', 'Female'): 11, ('4_payment_confirmation_page', '03', 'Desktop', 'Female'): 6, ('4_payment_confirmation_page', '03', 'Mobile', 'Male'): 10, ('4_payment_confirmation_page', '04', 'Mobile', 'Male'): 13, ('4_payment_confirmation_page', '03', 'Desktop', 'Male'): 8}\n"
     ]
    }
   ],
   "source": [
    "import csv\n",
    "# name.csv ниже нужно заменить на название csv файла, который вы хотите открыть\n",
    "file_path = 'click_stream3.csv'\n",
    "with open(file_path, mode='r') as csv_file: # открываем файл\n",
    "    csv_reader = csv.DictReader(csv_file, fieldnames=['ID','page','date']) # читаем файл\n",
    "    \n",
    "    funnel = {}\n",
    "    funnel_page = set()\n",
    "    funnel_mounth = set()\n",
    "    funnel_device = set()\n",
    "    funnel_gender = set()\n",
    "    \n",
    "    for row in csv_reader: #перебираем по одной строчке нашего файла\n",
    "        page = list(row.items())[0][1].split(\";\")[1]\n",
    "        if page not in funnel_page:\n",
    "            funnel_page.add(page)\n",
    "        mounth = list(row.items())[0][1].split(\";\")[2].split(\"-\")[1]\n",
    "        if mounth not in funnel_mounth:\n",
    "            funnel_mounth.add(mounth)\n",
    "        device = list(row.items())[0][1].split(\";\")[3]\n",
    "        if device not in funnel_device:\n",
    "            funnel_device.add(device)\n",
    "        gender = list(row.items())[0][1].split(\";\")[4]\n",
    "        if gender not in funnel_gender:\n",
    "            funnel_gender.add(gender)\n",
    "        # для нашего датасета это строка, указывающая, на какой страничке было совершено действие\n",
    "\n",
    "        \n",
    "        if (page,mounth,device,gender) not in funnel:\n",
    "            funnel[(page,mounth,device,gender)] = 1\n",
    "        else:\n",
    "            funnel[(page,mounth,device,gender)]+=1\n",
    "            \n",
    "    print(funnel)"
   ]
  },
  {
   "cell_type": "code",
   "execution_count": 60,
   "metadata": {},
   "outputs": [
    {
     "data": {
      "text/plain": [
       "{('1_home_page', '02', 'Desktop'): 15050,\n",
       " ('1_home_page', '03', 'Desktop'): 15050,\n",
       " ('1_home_page', '01', 'Desktop'): 15050,\n",
       " ('1_home_page', '01', 'Mobile'): 7550,\n",
       " ('1_home_page', '04', 'Mobile'): 7550,\n",
       " ('1_home_page', '04', 'Desktop'): 15050,\n",
       " ('1_home_page', '03', 'Mobile'): 7550,\n",
       " ('1_home_page', '02', 'Mobile'): 7550,\n",
       " ('2_search_page', '03', 'Desktop'): 7370,\n",
       " ('2_search_page', '04', 'Mobile'): 1511,\n",
       " ('2_search_page', '01', 'Mobile'): 6025,\n",
       " ('2_search_page', '02', 'Desktop'): 7632,\n",
       " ('2_search_page', '04', 'Desktop'): 7569,\n",
       " ('2_search_page', '01', 'Desktop'): 7529,\n",
       " ('2_search_page', '02', 'Mobile'): 6055,\n",
       " ('2_search_page', '03', 'Mobile'): 1509,\n",
       " ('3_payment_page', '01', 'Desktop'): 1221,\n",
       " ('3_payment_page', '01', 'Mobile'): 1169,\n",
       " ('3_payment_page', '02', 'Mobile'): 1221,\n",
       " ('3_payment_page', '02', 'Desktop'): 1191,\n",
       " ('3_payment_page', '03', 'Desktop'): 296,\n",
       " ('3_payment_page', '04', 'Mobile'): 295,\n",
       " ('3_payment_page', '04', 'Desktop'): 302,\n",
       " ('3_payment_page', '03', 'Mobile'): 335,\n",
       " ('4_payment_confirmation_page', '02', 'Desktop'): 54,\n",
       " ('4_payment_confirmation_page', '03', 'Mobile'): 30,\n",
       " ('4_payment_confirmation_page', '01', 'Mobile'): 129,\n",
       " ('4_payment_confirmation_page', '02', 'Mobile'): 119,\n",
       " ('4_payment_confirmation_page', '01', 'Desktop'): 60,\n",
       " ('4_payment_confirmation_page', '04', 'Desktop'): 22,\n",
       " ('4_payment_confirmation_page', '04', 'Mobile'): 24,\n",
       " ('4_payment_confirmation_page', '03', 'Desktop'): 14}"
      ]
     },
     "execution_count": 60,
     "metadata": {},
     "output_type": "execute_result"
    }
   ],
   "source": [
    "funnel"
   ]
  },
  {
   "cell_type": "code",
   "execution_count": 61,
   "metadata": {},
   "outputs": [
    {
     "data": {
      "text/plain": [
       "{'1_home_page',\n",
       " '2_search_page',\n",
       " '3_payment_page',\n",
       " '4_payment_confirmation_page'}"
      ]
     },
     "execution_count": 61,
     "metadata": {},
     "output_type": "execute_result"
    }
   ],
   "source": [
    "funnel_page"
   ]
  },
  {
   "cell_type": "code",
   "execution_count": 62,
   "metadata": {},
   "outputs": [
    {
     "data": {
      "text/plain": [
       "{'01', '02', '03', '04'}"
      ]
     },
     "execution_count": 62,
     "metadata": {},
     "output_type": "execute_result"
    }
   ],
   "source": [
    "funnel_mounth"
   ]
  },
  {
   "cell_type": "code",
   "execution_count": 63,
   "metadata": {},
   "outputs": [
    {
     "data": {
      "text/plain": [
       "{'Desktop', 'Mobile'}"
      ]
     },
     "execution_count": 63,
     "metadata": {},
     "output_type": "execute_result"
    }
   ],
   "source": [
    "funnel_device"
   ]
  },
  {
   "cell_type": "code",
   "execution_count": 85,
   "metadata": {},
   "outputs": [
    {
     "data": {
      "text/plain": [
       "{'Female', 'Male'}"
      ]
     },
     "execution_count": 85,
     "metadata": {},
     "output_type": "execute_result"
    }
   ],
   "source": [
    "funnel_gender"
   ]
  },
  {
   "cell_type": "code",
   "execution_count": 76,
   "metadata": {},
   "outputs": [
    {
     "name": "stdout",
     "output_type": "stream",
     "text": [
      "3_payment_page Mobile 02 = 1221\n",
      "3_payment_page Mobile 03 = 335\n",
      "3_payment_page Desktop 02 = 1191\n",
      "3_payment_page Desktop 03 = 296\n",
      "4_payment_confirmation_page Mobile 02 = 119\n",
      "4_payment_confirmation_page Mobile 03 = 30\n",
      "4_payment_confirmation_page Desktop 02 = 54\n",
      "4_payment_confirmation_page Desktop 03 = 14\n",
      "1_home_page Mobile 02 = 7550\n",
      "1_home_page Mobile 03 = 7550\n",
      "1_home_page Desktop 02 = 15050\n",
      "1_home_page Desktop 03 = 15050\n",
      "2_search_page Mobile 02 = 6055\n",
      "2_search_page Mobile 03 = 1509\n",
      "2_search_page Desktop 02 = 7632\n",
      "2_search_page Desktop 03 = 7370\n"
     ]
    }
   ],
   "source": [
    "# уже выяснили, что проблема между второй февралём и мартом и начиная с 2-го шага, посмотрим изменение по девайсам\n",
    "# и потом ещё переведём в проценты от второго этапа\n",
    "\n",
    "for page_i in funnel_page:\n",
    "    for device_i in list(funnel_device):    \n",
    "        for mounth_i in list(funnel_mounth)[1:3]:\n",
    "            print(page_i,device_i,mounth_i,\"=\", funnel[(page_i,mounth_i,device_i)])"
   ]
  },
  {
   "cell_type": "code",
   "execution_count": 78,
   "metadata": {},
   "outputs": [
    {
     "name": "stdout",
     "output_type": "stream",
     "text": [
      "3_payment_page Mobile 02 = 16.172185430463575\n",
      "3_payment_page Mobile 03 = 4.437086092715232\n",
      "3_payment_page Desktop 02 = 7.913621262458472\n",
      "3_payment_page Desktop 03 = 1.9667774086378738\n",
      "4_payment_confirmation_page Mobile 02 = 1.576158940397351\n",
      "4_payment_confirmation_page Mobile 03 = 0.3973509933774834\n",
      "4_payment_confirmation_page Desktop 02 = 0.3588039867109634\n",
      "4_payment_confirmation_page Desktop 03 = 0.09302325581395349\n",
      "1_home_page Mobile 02 = 100.0\n",
      "1_home_page Mobile 03 = 100.0\n",
      "1_home_page Desktop 02 = 100.0\n",
      "1_home_page Desktop 03 = 100.0\n",
      "2_search_page Mobile 02 = 80.19867549668874\n",
      "2_search_page Mobile 03 = 19.986754966887418\n",
      "2_search_page Desktop 02 = 50.7109634551495\n",
      "2_search_page Desktop 03 = 48.970099667774086\n"
     ]
    }
   ],
   "source": [
    "# перевод в %\n",
    "# уже выяснили, что проблема между второй февралём и мартом и начиная с 2-го шага, посмотрим изменение по девайсам\n",
    "# и потом ещё переведём в проценты от второго этапа\n",
    "\n",
    "for page_i in funnel_page:\n",
    "    for device_i in list(funnel_device):    \n",
    "        for mounth_i in list(funnel_mounth)[1:3]:\n",
    "            print(page_i,device_i,mounth_i,\"=\",\n",
    "                  funnel[(page_i,mounth_i,device_i)] / funnel[('1_home_page',mounth_i,device_i)] * 100)"
   ]
  },
  {
   "cell_type": "code",
   "execution_count": 65,
   "metadata": {},
   "outputs": [
    {
     "data": {
      "text/plain": [
       "['02', '03']"
      ]
     },
     "execution_count": 65,
     "metadata": {},
     "output_type": "execute_result"
    }
   ],
   "source": [
    "list(funnel_mounth)[1:3]"
   ]
  },
  {
   "cell_type": "markdown",
   "metadata": {},
   "source": [
    "## изучение пола"
   ]
  },
  {
   "cell_type": "code",
   "execution_count": 87,
   "metadata": {},
   "outputs": [],
   "source": [
    "# изучение пола\n",
    "# привеёдм в порядок список сайтов\n",
    "funnel_page = ['1_home_page', '2_search_page', '3_payment_page', '4_payment_confirmation_page']"
   ]
  },
  {
   "cell_type": "code",
   "execution_count": 88,
   "metadata": {},
   "outputs": [
    {
     "name": "stdout",
     "output_type": "stream",
     "text": [
      "1_home_page 01 = 7546\n",
      "1_home_page 02 = 7448\n",
      "1_home_page 03 = 7512\n",
      "1_home_page 04 = 7491\n",
      "2_search_page 01 = 3851\n",
      "2_search_page 02 = 3800\n",
      "2_search_page 03 = 3707\n",
      "2_search_page 04 = 3733\n",
      "3_payment_page 01 = 625\n",
      "3_payment_page 02 = 605\n",
      "3_payment_page 03 = 162\n",
      "3_payment_page 04 = 138\n",
      "4_payment_confirmation_page 01 = 33\n",
      "4_payment_confirmation_page 02 = 26\n",
      "4_payment_confirmation_page 03 = 6\n",
      "4_payment_confirmation_page 04 = 9\n"
     ]
    }
   ],
   "source": [
    "#'Desktop','Female'\n",
    "for page_i in funnel_page:\n",
    "    for mounth_i in funnel_mounth: \n",
    "        print(page_i,mounth_i,\"=\",funnel[(page_i,mounth_i,'Desktop','Female')])"
   ]
  },
  {
   "cell_type": "code",
   "execution_count": 89,
   "metadata": {},
   "outputs": [
    {
     "name": "stdout",
     "output_type": "stream",
     "text": [
      "1_home_page 01 = 7504\n",
      "1_home_page 02 = 7602\n",
      "1_home_page 03 = 7538\n",
      "1_home_page 04 = 7559\n",
      "2_search_page 01 = 3678\n",
      "2_search_page 02 = 3832\n",
      "2_search_page 03 = 3663\n",
      "2_search_page 04 = 3836\n",
      "3_payment_page 01 = 596\n",
      "3_payment_page 02 = 586\n",
      "3_payment_page 03 = 134\n",
      "3_payment_page 04 = 164\n",
      "4_payment_confirmation_page 01 = 27\n",
      "4_payment_confirmation_page 02 = 28\n",
      "4_payment_confirmation_page 03 = 8\n",
      "4_payment_confirmation_page 04 = 13\n"
     ]
    }
   ],
   "source": [
    "#'Desktop','Male'\n",
    "for page_i in funnel_page:\n",
    "    for mounth_i in funnel_mounth: \n",
    "        print(page_i,mounth_i,\"=\",funnel[(page_i,mounth_i,'Desktop','Male')])"
   ]
  },
  {
   "cell_type": "code",
   "execution_count": 90,
   "metadata": {},
   "outputs": [
    {
     "name": "stdout",
     "output_type": "stream",
     "text": [
      "1_home_page 01 = 3868\n",
      "1_home_page 02 = 3751\n",
      "1_home_page 03 = 3738\n",
      "1_home_page 04 = 3721\n",
      "2_search_page 01 = 3062\n",
      "2_search_page 02 = 3020\n",
      "2_search_page 03 = 747\n",
      "2_search_page 04 = 756\n",
      "3_payment_page 01 = 618\n",
      "3_payment_page 02 = 630\n",
      "3_payment_page 03 = 175\n",
      "3_payment_page 04 = 147\n",
      "4_payment_confirmation_page 01 = 76\n",
      "4_payment_confirmation_page 02 = 60\n",
      "4_payment_confirmation_page 03 = 20\n",
      "4_payment_confirmation_page 04 = 11\n"
     ]
    }
   ],
   "source": [
    "#'Desktop','Female'\n",
    "for page_i in funnel_page:\n",
    "    for mounth_i in funnel_mounth: \n",
    "        print(page_i,mounth_i,\"=\",funnel[(page_i,mounth_i,'Mobile','Female')])"
   ]
  },
  {
   "cell_type": "code",
   "execution_count": 91,
   "metadata": {},
   "outputs": [
    {
     "name": "stdout",
     "output_type": "stream",
     "text": [
      "1_home_page 01 = 3682\n",
      "1_home_page 02 = 3799\n",
      "1_home_page 03 = 3812\n",
      "1_home_page 04 = 3829\n",
      "2_search_page 01 = 2963\n",
      "2_search_page 02 = 3035\n",
      "2_search_page 03 = 762\n",
      "2_search_page 04 = 755\n",
      "3_payment_page 01 = 551\n",
      "3_payment_page 02 = 591\n",
      "3_payment_page 03 = 160\n",
      "3_payment_page 04 = 148\n",
      "4_payment_confirmation_page 01 = 53\n",
      "4_payment_confirmation_page 02 = 59\n",
      "4_payment_confirmation_page 03 = 10\n",
      "4_payment_confirmation_page 04 = 13\n"
     ]
    }
   ],
   "source": [
    "#'Desktop','Male'\n",
    "for page_i in funnel_page:\n",
    "    for mounth_i in funnel_mounth: \n",
    "        print(page_i,mounth_i,\"=\",funnel[(page_i,mounth_i,'Mobile','Male')])"
   ]
  }
 ],
 "metadata": {
  "colab": {
   "collapsed_sections": [],
   "name": "jun_anl_functions.ipynb",
   "provenance": []
  },
  "kernelspec": {
   "display_name": "Python 3 (ipykernel)",
   "language": "python",
   "name": "python3"
  },
  "language_info": {
   "codemirror_mode": {
    "name": "ipython",
    "version": 3
   },
   "file_extension": ".py",
   "mimetype": "text/x-python",
   "name": "python",
   "nbconvert_exporter": "python",
   "pygments_lexer": "ipython3",
   "version": "3.9.12"
  }
 },
 "nbformat": 4,
 "nbformat_minor": 1
}
