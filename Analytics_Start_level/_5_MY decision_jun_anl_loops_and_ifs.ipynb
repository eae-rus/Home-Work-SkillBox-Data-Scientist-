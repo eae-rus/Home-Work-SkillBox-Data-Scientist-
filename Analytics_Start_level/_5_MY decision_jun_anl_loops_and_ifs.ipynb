{
 "cells": [
  {
   "cell_type": "markdown",
   "metadata": {
    "colab_type": "text",
    "id": "X9wfb-pqPzYu"
   },
   "source": [
    "# Циклы и условия\n",
    "\n",
    "## Домашняя работа\n",
    "Эта домашняя работа должна быть решена **БЕЗ** использования готовых функций (если именно они «решают» задачу) и сторонних библиотек. Используйте циклы и условия."
   ]
  },
  {
   "cell_type": "markdown",
   "metadata": {
    "colab_type": "text",
    "id": "LWsFp-lTB1SY"
   },
   "source": [
    "**Цель блока заданий:** в данном блоке задач вы потренируетесь использовать циклы и условные операторы для решения практических задач.\n",
    "\n",
    "**Критерии оценки:** задания считаются выполненными, если программа выводит корректный ответ."
   ]
  },
  {
   "cell_type": "markdown",
   "metadata": {
    "colab_type": "text",
    "id": "DMpu8uUoPzY0"
   },
   "source": [
    "## 1\n",
    "\n",
    "Напишите программу, которая будет запрашивать на вход числа (через запятую на одной строке) и выводить наибольшее значение из списка.\n",
    "<br><br>\n",
    "*Ограничение: нельзя пользоваться готовой функцией для нахождения максимума (например, `max()`), готовыми функциями и методами сортировки (например, `sort()`,`sorted()`), функцией set().*\n",
    "<br>\n",
    "<br>\n",
    "*Формат ввода:* <br>\n",
    "1, 2, 3, 6, 7<br><br>\n",
    "\n",
    "*Формат вывода:* <br>\n",
    "7"
   ]
  },
  {
   "cell_type": "markdown",
   "metadata": {
    "colab_type": "text",
    "id": "jc-6GNtHB1SZ"
   },
   "source": [
    "**Рекомендации к выполнению задания:** попробуйте создать переменную, в которой будете хранить максимум. Итерируя по списку входных значений, сравните максимум с каждым элементом. В случае, если элемент оказался больше максимума, присвойте данной переменной новое значение."
   ]
  },
  {
   "cell_type": "code",
   "execution_count": 7,
   "metadata": {
    "colab": {},
    "colab_type": "code",
    "id": "dHs34-p-PzY3"
   },
   "outputs": [
    {
     "name": "stdout",
     "output_type": "stream",
     "text": [
      "Введите список = 1, 2, 3, 36, 7\n",
      "36\n"
     ]
    }
   ],
   "source": [
    "### YOUR CODE HERE ###\n",
    "variable = input(\"Введите список = \")\n",
    "variable_list = variable.split(\",\")\n",
    "max = int(variable_list[0])\n",
    "for x in variable_list:\n",
    "    x_int = int(x)\n",
    "    if int(x) > max:\n",
    "        max = x_int\n",
    "print(max)"
   ]
  },
  {
   "cell_type": "markdown",
   "metadata": {
    "colab_type": "text",
    "id": "sCF9Hd9rPzZD"
   },
   "source": [
    "### 2\n",
    "\n",
    "Напишите программу, которая будет запрашивать на вход числа (каждое с новой строки) до тех пор, пока не будет введён ноль (0). На выход должно выводиться второе по величине значение.\n",
    "<br><br>\n",
    "*Ограничение: нельзя пользоваться готовой функцией для нахождения максимума (например, `max()`), готовыми функциями и методами сортировки (например, `sort()`,`sorted()`).*\n",
    "<br><br>\n",
    "*Формат ввода:* <br>\n",
    "4<br>\n",
    "6<br>\n",
    "7<br>\n",
    "7<br>\n",
    "0\n",
    "<br><br>\n",
    "\n",
    "*Формат вывода:* <br>\n",
    "6"
   ]
  },
  {
   "cell_type": "markdown",
   "metadata": {
    "colab_type": "text",
    "id": "3wgCKyz8B1Se"
   },
   "source": [
    "**Рекомендации к выполнению задания:** попробуйте реализовать идею решения из предыдущего задания, используя две переменные для хранения максимумов."
   ]
  },
  {
   "cell_type": "code",
   "execution_count": 9,
   "metadata": {
    "colab": {},
    "colab_type": "code",
    "id": "yrJk-mEjPzZF"
   },
   "outputs": [
    {
     "name": "stdout",
     "output_type": "stream",
     "text": [
      "4\n",
      "6\n",
      "7\n",
      "7\n",
      "0\n",
      "\n",
      "6\n"
     ]
    }
   ],
   "source": [
    "### YOUR CODE HERE ###\n",
    "max_1 = 0\n",
    "max_2 = 0\n",
    "x = -1\n",
    "while x !=0:\n",
    "    variable = input()\n",
    "    x = int(variable)\n",
    "    if x > max_1:\n",
    "        max_2 = max_1\n",
    "        max_1 = x\n",
    "print(\"\")\n",
    "print(max_2)"
   ]
  },
  {
   "cell_type": "markdown",
   "metadata": {
    "colab_type": "text",
    "id": "fdJZMUtGPzZN"
   },
   "source": [
    "### 3\n",
    "\n",
    "Напишите программу, которая принимает на вход год, а на выход выдаёт количество дней в этом году.\n",
    "<br><br>\n",
    "*Формат ввода:* <br>\n",
    "2020<br><br>\n",
    "\n",
    "*Формат вывода:* <br>\n",
    "366"
   ]
  },
  {
   "cell_type": "markdown",
   "metadata": {
    "colab_type": "text",
    "id": "3RIf28qDB1Sh"
   },
   "source": [
    "**Рекомендации к выполнению задания:** вспомните свойство делимости для високосных годов."
   ]
  },
  {
   "cell_type": "code",
   "execution_count": 11,
   "metadata": {
    "colab": {},
    "colab_type": "code",
    "id": "Dk6PDx-jPzZP"
   },
   "outputs": [
    {
     "name": "stdout",
     "output_type": "stream",
     "text": [
      "Введите год2001\n",
      "365\n"
     ]
    }
   ],
   "source": [
    "### YOUR CODE HERE ###\n",
    "\n",
    "x = int(input(\"Введите год\"))\n",
    "if x % 4 == 0:\n",
    "    print(\"366\")\n",
    "else:\n",
    "    print(\"365\")"
   ]
  },
  {
   "cell_type": "markdown",
   "metadata": {
    "colab_type": "text",
    "id": "wFGBh0dYPzZV"
   },
   "source": [
    "### 4\n",
    "\n",
    "Напишите программу, которая на вход получает координаты двух клеток шахматной доски и выводит соощение о том, являются ли эти клетки одного цвета.\n",
    "<br><br>\n",
    "*Формат ввода:* <br>\n",
    "c2<br>\n",
    "e4<br><br>\n",
    "\n",
    "*Формат вывода:* <br>\n",
    "Клетки одинакового цвета"
   ]
  },
  {
   "cell_type": "markdown",
   "metadata": {
    "colab_type": "text",
    "id": "_VJtexxXB1Sk"
   },
   "source": [
    "**Рекомендации к выполнению задания:** попробуйте заметить закономерность о чётности и нечётности суммы координат клеток, если считать, что координаты клеток задаются только цифрами от 1 до 8. "
   ]
  },
  {
   "cell_type": "code",
   "execution_count": 17,
   "metadata": {
    "colab": {},
    "colab_type": "code",
    "id": "k-8POcqGPzZW"
   },
   "outputs": [
    {
     "name": "stdout",
     "output_type": "stream",
     "text": [
      "Введите клетку 1 = a1\n",
      "Введите клетку 2 = h7\n",
      "black\n",
      "white\n",
      "Клетки разного цвета\n"
     ]
    }
   ],
   "source": [
    "### YOUR CODE HERE ###\n",
    "\n",
    "chess_cage_1 = input(\"Введите клетку 1 = \")\n",
    "chess_cage_2 = input(\"Введите клетку 2 = \")\n",
    "\n",
    "def color_chess_cage(cage: str):\n",
    "    result_color = \"black\"\n",
    "    if cage[0].capitalize() in [\"A\", \"C\", \"E\", \"G\"]:\n",
    "        if int(cage[1])%2 == 1:\n",
    "            result_color = \"black\"\n",
    "        else:\n",
    "            result_color = \"white\"\n",
    "    else:\n",
    "        if int(cage[1])%2 == 1:\n",
    "            result_color = \"white\"\n",
    "        else:\n",
    "            result_color = \"black\"\n",
    "    return result_color\n",
    "\n",
    "color_1 = color_chess_cage(chess_cage_1)\n",
    "print(color_1)\n",
    "color_2 = color_chess_cage(chess_cage_2)\n",
    "print(color_2)\n",
    "\n",
    "if color_1 == color_2:\n",
    "    print(\"Клетки одинакового цвета\")\n",
    "else:\n",
    "    print(\"Клетки разного цвета\")"
   ]
  },
  {
   "cell_type": "markdown",
   "metadata": {
    "colab_type": "text",
    "id": "O594rz0tPzZb"
   },
   "source": [
    "### 5\n",
    "\n",
    "Напишите программу, которая на вход получает число, а на выходе сообщает, простое это число или составное.\n",
    "<br><br>\n",
    "*Формат ввода:* <br>\n",
    "169<br><br>\n",
    "\n",
    "*Формат вывода:* <br>\n",
    "Составное число"
   ]
  },
  {
   "cell_type": "markdown",
   "metadata": {
    "colab_type": "text",
    "id": "NQjUV04_B1So"
   },
   "source": [
    "**Рекомендации к выполнению задания:** помните, что простых чисел бесконечно много, а любое произведение простых чисел даёт составное число. "
   ]
  },
  {
   "cell_type": "code",
   "execution_count": 23,
   "metadata": {
    "colab": {},
    "colab_type": "code",
    "id": "-Oy1AesyPzZd"
   },
   "outputs": [
    {
     "name": "stdout",
     "output_type": "stream",
     "text": [
      "Введите число = 169\n",
      "Составное число\n"
     ]
    }
   ],
   "source": [
    "### YOUR CODE HERE ###\n",
    "\n",
    "x = int(input(\"Введите число = \"))\n",
    "\n",
    "for divider in range(2, 1+x//2):\n",
    "    if x % divider == 0:\n",
    "        print(\"Составное число\")\n",
    "        break\n",
    "else:\n",
    "    print(\"Простое число\")"
   ]
  },
  {
   "cell_type": "markdown",
   "metadata": {
    "colab_type": "text",
    "id": "QzBAQaW8PzZg"
   },
   "source": [
    "### 6\n",
    "\n",
    "Напишите программу, которая на вход получает целое число больше 2 и выводит по нему его наименьший натуральный делитель, отличный от 1.\n",
    "<br><br>\n",
    "*Формат ввода:* <br>\n",
    "169<br><br>\n",
    "\n",
    "*Формат вывода:* <br>\n",
    "13"
   ]
  },
  {
   "cell_type": "code",
   "execution_count": 25,
   "metadata": {
    "colab": {},
    "colab_type": "code",
    "id": "Z2QzgAYKPzZi"
   },
   "outputs": [
    {
     "name": "stdout",
     "output_type": "stream",
     "text": [
      "Введите число = 169\n",
      "13\n"
     ]
    }
   ],
   "source": [
    "### YOUR CODE HERE ###\n",
    "\n",
    "x = int(input(\"Введите число = \"))\n",
    "\n",
    "for divider in range(2, 1+x//2):\n",
    "    if x % divider == 0:\n",
    "        print(divider)\n",
    "        break\n",
    "else:\n",
    "    print(\"Простое число\")"
   ]
  },
  {
   "cell_type": "markdown",
   "metadata": {
    "colab_type": "text",
    "id": "Mdg_IAfFPzZk"
   },
   "source": [
    "### 7\n",
    "\n",
    "Напишите программу, которая поможет составить план тренировок для подготовки к марафону. Она получает на вход число километров на планируемом марафоне, сколько пользователь планирует пробежать в первый день тренировок и на сколько процентов планирует увеличивать каждый день это расстояние. На выходе программа должна выдавать, сколько дней пользователю потребуется для того, чтобы подготовиться пробежать целевое количество километров.\n",
    "<br><br>\n",
    "*Ограничение: нельзя пользоваться функцией `ceil()` из модуля `math` и её аналогами.*\n",
    "<br><br>\n",
    "*Формат ввода:* <br>\n",
    "12<br>\n",
    "3<br>\n",
    "10<br><br>\n",
    "\n",
    "*Формат вывода:* <br>\n",
    "16"
   ]
  },
  {
   "cell_type": "code",
   "execution_count": 29,
   "metadata": {
    "colab": {},
    "colab_type": "code",
    "id": "mXeF6AMWPzZl"
   },
   "outputs": [
    {
     "name": "stdout",
     "output_type": "stream",
     "text": [
      "Введите итоговую длину = 12\n",
      "Введите начальную длину = 3\n",
      "Введите % увеличения = 10\n",
      "16\n"
     ]
    }
   ],
   "source": [
    "### YOUR CODE HERE ###\n",
    "\n",
    "len_finish = float(input(\"Введите итоговую длину = \"))\n",
    "len_start = float(input(\"Введите начальную длину = \"))\n",
    "len_update_percent = float(input(\"Введите % увеличения = \"))\n",
    "\n",
    "len_present = len_start\n",
    "day = 1\n",
    "while len_present < len_finish:\n",
    "    day+=1\n",
    "    len_present*=1 + len_update_percent/100\n",
    "    #print(len_present)\n",
    "\n",
    "print(day)"
   ]
  },
  {
   "cell_type": "markdown",
   "metadata": {
    "colab_type": "text",
    "id": "sxKoWpYKPzZo"
   },
   "source": [
    "### 8\n",
    "\n",
    "Напишите программу, которая на вход получает число n и считает по нему сумму 1²+2²+3²+...+n².\n",
    "<br><br>\n",
    "*Ограничение: нельзя пользоваться функцией `sum()` и её аналогами.*\n",
    "\n",
    "*Формат ввода:* <br>\n",
    "3<br><br>\n",
    "\n",
    "*Формат вывода:* <br>\n",
    "14"
   ]
  },
  {
   "cell_type": "code",
   "execution_count": 40,
   "metadata": {
    "colab": {},
    "colab_type": "code",
    "id": "RiPlWLm6PzZp"
   },
   "outputs": [
    {
     "name": "stdout",
     "output_type": "stream",
     "text": [
      "Введите число = 3\n",
      "14\n"
     ]
    }
   ],
   "source": [
    "### YOUR CODE HERE ###\n",
    "\n",
    "n = int(input(\"Введите число = \"))\n",
    "\n",
    "sum_n_square = 0\n",
    "for x in range(1, n+1):\n",
    "    sum_n_square += x**2\n",
    "    #print(x, sum_n_square, x**2)\n",
    "print(sum_n_square)"
   ]
  },
  {
   "cell_type": "markdown",
   "metadata": {
    "colab_type": "text",
    "id": "aXzG4-wdPzZr"
   },
   "source": [
    "## 9\n",
    "\n",
    "Напишите программу, которая на вход получает число n и считает по нему сумму сумму 1! + 2! + 3! + ... + n!\n",
    "<br><br>\n",
    "*Ограничение: нельзя пользоваться готовой функцией `factorial()` из модуля `math`, функцией `sum()` и их аналогами.*\n",
    "\n",
    "*Формат ввода:* <br>\n",
    "3<br><br>\n",
    "\n",
    "*Формат вывода:* <br>\n",
    "9"
   ]
  },
  {
   "cell_type": "code",
   "execution_count": 44,
   "metadata": {
    "colab": {},
    "colab_type": "code",
    "id": "KBEXUEDQPzZs"
   },
   "outputs": [
    {
     "name": "stdout",
     "output_type": "stream",
     "text": [
      "Введите число = 3\n",
      "9\n"
     ]
    }
   ],
   "source": [
    "### YOUR CODE HERE ###\n",
    "\n",
    "n = int(input(\"Введите число = \"))\n",
    "\n",
    "sum_n_factorial = 0\n",
    "for x in range(1, n+1):\n",
    "    factorial = 1\n",
    "    for y in range(1, x+1):\n",
    "        factorial *= y\n",
    "    sum_n_factorial += factorial\n",
    "    #print(x, sum_n_square, x**2)\n",
    "print(sum_n_factorial)"
   ]
  },
  {
   "cell_type": "markdown",
   "metadata": {
    "colab_type": "text",
    "id": "4nsOuiWVPzZu"
   },
   "source": [
    "### 10\n",
    "\n",
    "Напишите программу, которая получает на вход последовательность чисел (каждое число с новой строки до того момента, пока пользователь не введёт 0) и считает количество чётных элементов в последовательности.\n",
    "<br><br>\n",
    "*Формат ввода:* <br>\n",
    "5<br>\n",
    "4<br>\n",
    "2<br>\n",
    "7<br>\n",
    "8<br>\n",
    "9<br>\n",
    "0<br><br>\n",
    "\n",
    "*Формат вывода:* <br>\n",
    "3"
   ]
  },
  {
   "cell_type": "code",
   "execution_count": 46,
   "metadata": {
    "colab": {},
    "colab_type": "code",
    "id": "xktF2cocPzZv"
   },
   "outputs": [
    {
     "name": "stdout",
     "output_type": "stream",
     "text": [
      "5\n",
      "4\n",
      "2\n",
      "7\n",
      "8\n",
      "9\n",
      "0\n",
      "\n",
      "3\n"
     ]
    }
   ],
   "source": [
    "### YOUR CODE HERE ###\n",
    "\n",
    "even_numbered = 0\n",
    "while True:\n",
    "    x = int(input())\n",
    "    if x == 0:\n",
    "        break\n",
    "    if x%2 == 0:\n",
    "        even_numbered += 1\n",
    "print(\"\")\n",
    "print(even_numbered)"
   ]
  },
  {
   "cell_type": "markdown",
   "metadata": {
    "colab_type": "text",
    "id": "hyC9QGXPPzZx"
   },
   "source": [
    "### 11\n",
    "\n",
    "Напишите программу, которая формирует список игроков женской команды по мини-футболу. Программа должна записывать возраст и пол претендента. Возраст должен запрашиваться после пола и только в том случае, если пол претендента женский. Если пол претендента мужской, программа должна сообщать о том, что он не подходит. Возраст претенденток должен быть от 18 до 35 лет. Если кандидат удовлетворяет требованиям, должно появляться соответствующее сообщение. Всего в команде могут быть только шесть человек. Когда необходимое число набирается, запись закрывается и выводится сообщение «Запись в команду закрыта».\n"
   ]
  },
  {
   "cell_type": "code",
   "execution_count": 49,
   "metadata": {
    "colab": {},
    "colab_type": "code",
    "id": "qSDK-zQ4PzZx"
   },
   "outputs": [
    {
     "name": "stdout",
     "output_type": "stream",
     "text": [
      "Введите пол в виде числа \"0 - мужской, 1 - женский\" = 0\n",
      "Извините, Вы нам не подходите\n",
      "Введите пол в виде числа \"0 - мужской, 1 - женский\" = 1\n",
      "Введите возраст = 18\n",
      "Вы добавлены в команду\n",
      "Введите пол в виде числа \"0 - мужской, 1 - женский\" = 1\n",
      "Введите возраст = 35\n",
      "Вы добавлены в команду\n",
      "Введите пол в виде числа \"0 - мужской, 1 - женский\" = 1\n",
      "Введите возраст = 40\n",
      "Извините, Вы нам не подходите\n",
      "Введите пол в виде числа \"0 - мужской, 1 - женский\" = 1\n",
      "Введите возраст = 11\n",
      "Извините, Вы нам не подходите\n",
      "Введите пол в виде числа \"0 - мужской, 1 - женский\" = 1\n",
      "Введите возраст = 20\n",
      "Вы добавлены в команду\n",
      "Введите пол в виде числа \"0 - мужской, 1 - женский\" = 1\n",
      "Введите возраст = 20\n",
      "Вы добавлены в команду\n",
      "Введите пол в виде числа \"0 - мужской, 1 - женский\" = 1\n",
      "Введите возраст = 20\n",
      "Вы добавлены в команду\n",
      "Введите пол в виде числа \"0 - мужской, 1 - женский\" = 1\n",
      "Введите возраст = 20\n",
      "Вы добавлены в команду\n",
      "Команда сформирована\n",
      "{1: (1, 18), 2: (1, 35), 3: (1, 20), 4: (1, 20), 5: (1, 20), 6: (1, 20)}\n"
     ]
    }
   ],
   "source": [
    "### YOUR CODE HERE ###\n",
    "\n",
    "comand = dict()\n",
    "\n",
    "while len(comand) < 6: \n",
    "    gender = int(input('Введите пол в виде числа \"0 - мужской, 1 - женский\" = '))\n",
    "    if gender == 0:\n",
    "        print(\"Извините, Вы нам не подходите\")\n",
    "        continue\n",
    "    age = int(input('Введите возраст = '))\n",
    "    if 18 <= age <= 35:\n",
    "        comand[len(comand)+1] = (gender, age)\n",
    "        print(\"Вы добавлены в команду\")\n",
    "    else:\n",
    "        print(\"Извините, Вы нам не подходите\")\n",
    "print(\"Команда сформирована\")\n",
    "print(comand)"
   ]
  },
  {
   "cell_type": "markdown",
   "metadata": {
    "colab_type": "text",
    "id": "B4JAB8AqPzZ0"
   },
   "source": [
    "### 12\n",
    "\n",
    "\n",
    "Напишите программу, которая на вход получает максимальную ширину ромба и рисует его. Гарантируется, что входное число всегда нечётное.\n",
    "<br><br>\n",
    "\n",
    "*Формат ввода:* <br>\n",
    "5<br><br>\n",
    "\n",
    "*Формат вывода:* <br>\n",
    "```  \n",
    "  *\n",
    " ***\n",
    "*****\n",
    " ***\n",
    "  *```"
   ]
  },
  {
   "cell_type": "markdown",
   "metadata": {
    "colab_type": "text",
    "id": "74kwD7s7B1S6"
   },
   "source": [
    "**Рекомендации к выполнению задания:** Внимательно изучите рисунок из примера, попробуйте заметить закономерность, по которой он строится."
   ]
  },
  {
   "cell_type": "code",
   "execution_count": 70,
   "metadata": {
    "colab": {},
    "colab_type": "code",
    "id": "WVp7O75oPzZ0"
   },
   "outputs": [
    {
     "name": "stdout",
     "output_type": "stream",
     "text": [
      "Введите ширину ромба = 21\n",
      "1          *\n",
      "1         ***\n",
      "1        *****\n",
      "1       *******\n",
      "1      *********\n",
      "1     ***********\n",
      "1    *************\n",
      "1   ***************\n",
      "1  *****************\n",
      "1 *******************\n",
      "2*********************\n",
      "3 *******************\n",
      "3  *****************\n",
      "3   ***************\n",
      "3    *************\n",
      "3     ***********\n",
      "3      *********\n",
      "3       *******\n",
      "3        *****\n",
      "3         ***\n",
      "3          *\n"
     ]
    }
   ],
   "source": [
    "### YOUR CODE HERE ###\n",
    "\n",
    "width = int(input(\"Введите ширину ромба = \"))\n",
    "\n",
    "if width%2 == 1:\n",
    "    for i in range(1, width+1):\n",
    "        if i < width/2:\n",
    "            print(\"1\"+\" \"*(width//2-i+1)+\"*\"+\"*\"*(i-1)*2)\n",
    "        elif i == (width//2 + 1):\n",
    "            print(\"2\"+\"*\"*width)\n",
    "        else:\n",
    "            print(\"3\"+\" \"*(i-width+width//2)+\"*\"+\"*\"*(width-i)*2)\n",
    "else:\n",
    "    print(\"Не удаётся построить\")"
   ]
  },
  {
   "cell_type": "markdown",
   "metadata": {
    "colab_type": "text",
    "id": "xrIXWj0yPzZ2"
   },
   "source": [
    "### 13\n",
    "\n",
    "Напишите программу, которая запрашивает у пользователя сторону квадрата и символ, а затем рисует этот символ по диагоналям квадрата. Гарантируется, что входное число всегда нечётное.\n",
    "<br><br>\n",
    "\n",
    "*Формат ввода:* <br>\n",
    "5<br>\n",
    "\\#<br><br>\n",
    "\n",
    "*Формат вывода:* <br>\n",
    "```\n",
    " \n",
    "#   #\n",
    " # #\n",
    "  #  \n",
    " # #\n",
    "#   #\n",
    "```"
   ]
  },
  {
   "cell_type": "markdown",
   "metadata": {
    "colab_type": "text",
    "id": "ITzL6HrwB1S9"
   },
   "source": [
    "**Рекомендации к выполнению задания:** внимательно изучите рисунок из примера, попробуйте заметить закономерность, по которой он строится."
   ]
  },
  {
   "cell_type": "code",
   "execution_count": 91,
   "metadata": {
    "colab": {},
    "colab_type": "code",
    "id": "oUKNB9TaPzZ3"
   },
   "outputs": [
    {
     "name": "stdout",
     "output_type": "stream",
     "text": [
      "Введите ширину квадрата = 21\n",
      "Введите символ = #\n",
      "1#                   #\n",
      "1 #                 # \n",
      "1  #               #  \n",
      "1   #             #   \n",
      "1    #           #    \n",
      "1     #         #     \n",
      "1      #       #      \n",
      "1       #     #       \n",
      "1        #   #        \n",
      "1         # #         \n",
      "2          #\n",
      "3         # #         \n",
      "3        #   #        \n",
      "3       #     #       \n",
      "3      #       #      \n",
      "3     #         #     \n",
      "3    #           #    \n",
      "3   #             #   \n",
      "3  #               #  \n",
      "3 #                 # \n",
      "3#                   #\n"
     ]
    }
   ],
   "source": [
    "### YOUR CODE HERE ###\n",
    "\n",
    "width = int(input(\"Введите ширину квадрата = \"))\n",
    "symbol = input(\"Введите символ = \")\n",
    "\n",
    "for i in range(1, width+1):\n",
    "    if i < width/2:\n",
    "        print(\"1\" + \" \"*(i-1) + symbol + \" \"*(width-2*i) + symbol + \" \"*(i-1))\n",
    "    elif i == (width//2 + 1):\n",
    "        print(\"2\" + \" \"*(width//2) + symbol)\n",
    "    else:\n",
    "        print(\"3\" + \" \"*(width-i) + symbol + \" \"*(width-2-2*(width-i)) + symbol + \" \"*(width-i))"
   ]
  },
  {
   "cell_type": "markdown",
   "metadata": {
    "colab_type": "text",
    "id": "3GaiPsFYPzZ_"
   },
   "source": [
    "### 14\n",
    "\n",
    "В корзине лежат шары. Если разложить их в кучи по два, останется один. Если разложить в кучи по три, останется один. Если разложить в кучи по четыре, останется один. Если разложить в кучи по пять, останется один. Если разложить в кучи по шесть, останется один. Если разложить в кучи по семь, не будет остатка. Нужно найти минимальное количество шаров, удовлетворяющее условию.  <br>"
   ]
  },
  {
   "cell_type": "code",
   "execution_count": 94,
   "metadata": {
    "colab": {},
    "colab_type": "code",
    "id": "V2msEhQkPzZ_"
   },
   "outputs": [
    {
     "name": "stdout",
     "output_type": "stream",
     "text": [
      "301\n"
     ]
    }
   ],
   "source": [
    "### YOUR CODE HERE ###\n",
    "\n",
    "n = 1\n",
    "\n",
    "while n <= 10000:\n",
    "    if (n%2==1) and (n%3==1) and (n%4==1) and (n%5==1) and (n%6==1) and (n%7==0):\n",
    "        print(n)\n",
    "        break\n",
    "    n+=1"
   ]
  },
  {
   "cell_type": "markdown",
   "metadata": {
    "colab_type": "text",
    "id": "5pOjlON-PzaC"
   },
   "source": [
    "### 15\n",
    "\n",
    "Рабочие клеили обои на стены. Первую стену поклеили за M минут, а каждую следующую клеили на пять минут дольше, чем предыдущую.\n",
    "Напишите программу, которая запрашивает, сколько стен было в квартире под поклейку, а также время работы с первой стеной в минутах. Программа должна выводить, сколько **часов** рабочие потратили на поклейку обоев во всей квартире. Час отсчитывается с первой минуты. Ответом должно быть целое число. \n",
    "<br><br>\n",
    "*Ограничение: нельзя пользоваться готовыми функциями `bool()`, `floor()` и их аналогами.*\n",
    "<br><br>\n",
    "*Формат ввода:* <br>\n",
    "6<br>\n",
    "10<br><br>\n",
    "\n",
    "*Формат вывода:* <br>\n",
    "3"
   ]
  },
  {
   "cell_type": "code",
   "execution_count": 99,
   "metadata": {
    "colab": {},
    "colab_type": "code",
    "id": "Pmu96rWGPzaD"
   },
   "outputs": [
    {
     "name": "stdout",
     "output_type": "stream",
     "text": [
      "Введите количетсво стен = 6\n",
      "Введите время покраски первой стены = 10\n",
      "3\n"
     ]
    }
   ],
   "source": [
    "### YOUR CODE HERE ###\n",
    "\n",
    "wall_quantity = int(input(\"Введите количетсво стен = \"))\n",
    "time_painting_1_wall = int(input(\"Введите время покраски первой стены = \"))\n",
    "\n",
    "sum_time = 0\n",
    "time = time_painting_1_wall\n",
    "\n",
    "for i in range(1, wall_quantity+1):\n",
    "    sum_time += time\n",
    "    time += 5\n",
    "\n",
    "if sum_time%60==0:\n",
    "    print(sum_time//60)\n",
    "else:\n",
    "    print(sum_time//60+1)"
   ]
  },
  {
   "cell_type": "markdown",
   "metadata": {
    "colab_type": "text",
    "id": "63C6Za3CPzaF"
   },
   "source": [
    "### 16\n",
    "\n",
    "Напишите программу, которая убирает из списка повторяющиеся элементы. Программа должна запрашивать на вход слова, каждое с новой строки, пока пользователь не введёт пустую строку. Затем должна выводить список без повторяющихся элементов. \n",
    "<br><br>\n",
    "*Ограничение: нельзя пользоваться готовой функцией `set()` и её аналогами.*\n",
    "\n",
    "<br><br>\n",
    "*Формат ввода:* <br>\n",
    "Алиса<br>\n",
    "Алиса<br>\n",
    "Алиса<br>\n",
    "Петя<br>\n",
    "<br><br>\n",
    "\n",
    "*Формат вывода:* <br>\n",
    "[Алиса, Петя]"
   ]
  },
  {
   "cell_type": "markdown",
   "metadata": {
    "colab_type": "text",
    "id": "xwewurzYB1TF"
   },
   "source": [
    "**Рекомендации к выполнению задания:** попробуйте использовать проверку на включённость."
   ]
  },
  {
   "cell_type": "code",
   "execution_count": 102,
   "metadata": {
    "colab": {},
    "colab_type": "code",
    "id": "MQ-eDkbAPzaG"
   },
   "outputs": [
    {
     "name": "stdout",
     "output_type": "stream",
     "text": [
      "Алиса\n",
      "Алиса\n",
      "Алиса\n",
      "Петя\n",
      "\n",
      "['Алиса', 'Петя']\n"
     ]
    }
   ],
   "source": [
    "### YOUR CODE HERE ###\n",
    "\n",
    "list_name = []\n",
    "\n",
    "while True:\n",
    "    name = input()\n",
    "    if name == \"\":\n",
    "        print(list_name)\n",
    "        break\n",
    "    if name in list_name:\n",
    "        continue\n",
    "    list_name.append(name)"
   ]
  },
  {
   "cell_type": "markdown",
   "metadata": {
    "colab_type": "text",
    "id": "jueSDORaPzaI"
   },
   "source": [
    "### 17\n",
    "\n",
    "Напишите программу, которая выводит число пар одинаковых элементов в списке. При этом, если два элемента образовали пару, они не могут вступить в пару с другими элементами. Программа должна запрашивать на вход слова, каждое с новой строки, пока пользователь не введёт пустую строку. \n",
    "<br><br>\n",
    "*Формат ввода:* <br>\n",
    "Алиса<br>\n",
    "Алиса<br>\n",
    "Алиса<br>\n",
    "<br><br>\n",
    "\n",
    "*Формат вывода:* <br>\n",
    "1"
   ]
  },
  {
   "cell_type": "markdown",
   "metadata": {
    "colab_type": "text",
    "id": "gpQuU1lnB1TH"
   },
   "source": [
    "**Рекомендации к выполнению задания:** попробуйте использовать проверку на включённость."
   ]
  },
  {
   "cell_type": "code",
   "execution_count": 105,
   "metadata": {
    "colab": {},
    "colab_type": "code",
    "id": "49tbEr3NPzaJ"
   },
   "outputs": [
    {
     "name": "stdout",
     "output_type": "stream",
     "text": [
      "Алиса\n",
      "Алиса\n",
      "Алиса\n",
      "Петя\n",
      "Ваня\n",
      "Ваня\n",
      "\n",
      "2\n"
     ]
    }
   ],
   "source": [
    "### YOUR CODE HERE ###\n",
    "\n",
    "list_name = []\n",
    "list_couple_name = []\n",
    "\n",
    "while True:\n",
    "    name = input()\n",
    "    if name == \"\":\n",
    "        print(len(list_couple_name))\n",
    "        break\n",
    "    if name in list_name:\n",
    "        if not (name in list_couple_name):\n",
    "            list_couple_name.append(name)\n",
    "        continue\n",
    "    list_name.append(name)"
   ]
  },
  {
   "cell_type": "markdown",
   "metadata": {
    "colab_type": "text",
    "id": "yVLcBrD-PzaN"
   },
   "source": [
    "### 18\n",
    "\n",
    "Будем считать, что кубик может иметь неограниченное количество граней (натуральное число). Напишите программу, которая запрашивает, сколько граней имеется у двух разных кубиков. Затем выводит все возможные комбинации результатов бросков двух таких кубиков. \n",
    "<br><br>\n",
    "*Формат ввода:* <br>\n",
    "3<br>\n",
    "4<br><br>\n",
    "\n",
    "*Формат вывода:* <br>\n",
    "1 1<br>\n",
    "1 2<br>\n",
    "1 3<br>\n",
    "1 4<br>\n",
    "2 1<br>\n",
    "2 2<br>\n",
    "2 3<br>\n",
    "2 4<br>\n",
    "3 1<br>\n",
    "3 2<br>\n",
    "3 3<br>\n",
    "3 4<br>"
   ]
  },
  {
   "cell_type": "markdown",
   "metadata": {
    "colab_type": "text",
    "id": "5aAs5EsFB1TK"
   },
   "source": [
    "**Рекомендации к выполнению задания:** попробуйте использовать вложенные циклы."
   ]
  },
  {
   "cell_type": "code",
   "execution_count": 106,
   "metadata": {
    "colab": {},
    "colab_type": "code",
    "id": "7I2va0KwPzaR"
   },
   "outputs": [
    {
     "name": "stdout",
     "output_type": "stream",
     "text": [
      "Введите количетсво граней кубика 1 = 3\n",
      "Введите количетсво граней кубика 2 = 4\n",
      "1   1\n",
      "1   2\n",
      "1   3\n",
      "1   4\n",
      "2   1\n",
      "2   2\n",
      "2   3\n",
      "2   4\n",
      "3   1\n",
      "3   2\n",
      "3   3\n",
      "3   4\n"
     ]
    }
   ],
   "source": [
    "### YOUR CODE HERE ###\n",
    "\n",
    "quantity_1 = int(input(\"Введите количетсво граней кубика 1 = \"))\n",
    "quantity_2 = int(input(\"Введите количетсво граней кубика 2 = \"))\n",
    "\n",
    "for i in range(1, quantity_1+1):\n",
    "    for k in range(1, quantity_2+1):\n",
    "        print(i, \" \", k)"
   ]
  }
 ],
 "metadata": {
  "colab": {
   "collapsed_sections": [],
   "name": "jun_anl_loops_and_ifs.ipynb",
   "provenance": []
  },
  "kernelspec": {
   "display_name": "Python 3 (ipykernel)",
   "language": "python",
   "name": "python3"
  },
  "language_info": {
   "codemirror_mode": {
    "name": "ipython",
    "version": 3
   },
   "file_extension": ".py",
   "mimetype": "text/x-python",
   "name": "python",
   "nbconvert_exporter": "python",
   "pygments_lexer": "ipython3",
   "version": "3.9.12"
  }
 },
 "nbformat": 4,
 "nbformat_minor": 1
}
