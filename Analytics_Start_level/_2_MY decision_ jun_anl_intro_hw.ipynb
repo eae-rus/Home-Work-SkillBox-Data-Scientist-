{
 "cells": [
  {
   "cell_type": "markdown",
   "metadata": {
    "colab_type": "text",
    "id": "-eiC8SAWkdVl"
   },
   "source": [
    "# Введение в Python\n",
    "\n",
    "*Алла Тамбовцева*\n",
    "\n",
    "## Домашнее задание"
   ]
  },
  {
   "cell_type": "markdown",
   "metadata": {
    "colab_type": "text",
    "id": "r35_DkUAkdVn"
   },
   "source": [
    "В домашнем задании решите предложенные задачи по программированию — впишите\n",
    "свой код в ячейки после условий задач вместо комментария ### YOUR CODE HERE ### в файле\n",
    "homework1.ipynb и сохраните изменения, используя опцию Save and Checkpoint из вкладки меню\n",
    "File или кнопку Save and Checkpoint на панели инструментов. Итоговый файл в формате .ipynb\n",
    "(файл Jupyter Notebook) загрузите в личный кабинет обучающей онлайн-платформы\n",
    "Skillbox (https://go.skillbox.ru/) и отправьте на проверку.\n",
    "Во всех задачах под входными данными подразумевается то, что ввёл пользователь (с клавиатуры\n",
    "или просто сохранил в переменную), под выходными данными — результат исполнения кода.\n",
    "Программа здесь — строки кода, необходимые для выполнения задачи и выдачи результатов на\n",
    "экран. <br><br>"
   ]
  },
  {
   "cell_type": "markdown",
   "metadata": {
    "colab_type": "text",
    "id": "DDQL_xHDkdVo"
   },
   "source": [
    "**Цель блока заданий:** в данном блоке задач вы закрепите базовые навыки работы с языком программирования Python. \n",
    "\n",
    "**Рекомендации к выполнению блока заданий:** \n",
    "1. Общепринятым стилем оформления кода на языке Python является стандарт PEP8. Пожалуйста, старайтесь придерживаться заданного стиля кода. Уделите особое внимание пробелам (https://www.python.org/dev/peps/pep-0008/#whitespace-in-expressions-and-statements).\n",
    "2. В задачах понадобится запрашивать какую-то информацию у пользователя с клавиатуры. Для этого нужно использовать функцию `input()`, примеры использования которой были приведены в видеоуроках.\n",
    "\n",
    "**Критерии оценки:** задания считаются выполненными, если программа выводит корректный результат."
   ]
  },
  {
   "cell_type": "markdown",
   "metadata": {
    "colab_type": "text",
    "id": "pub-c6qUkdVp"
   },
   "source": [
    "### Задача 1\n",
    "\n",
    "Вычислите в Python:\n",
    "    \n",
    "$9^2 + 6^4$;\n",
    "\n",
    "$\\log(54)$ (натуральный логарифм);\n",
    "\n",
    "$\\sqrt{8} - \\sqrt{12}$;\n",
    "\n",
    "$\\sin(45) + \\cos(45)$."
   ]
  },
  {
   "cell_type": "code",
   "execution_count": 1,
   "metadata": {
    "colab": {},
    "colab_type": "code",
    "id": "-qv5sUERkdVq"
   },
   "outputs": [],
   "source": [
    "### YOUR CODE HERE ###\n",
    "import math"
   ]
  },
  {
   "cell_type": "code",
   "execution_count": 2,
   "metadata": {},
   "outputs": [
    {
     "name": "stdout",
     "output_type": "stream",
     "text": [
      "1377\n"
     ]
    }
   ],
   "source": [
    "result = 9**2 + 6**4\n",
    "print(result)"
   ]
  },
  {
   "cell_type": "code",
   "execution_count": 3,
   "metadata": {},
   "outputs": [
    {
     "name": "stdout",
     "output_type": "stream",
     "text": [
      "3.9889840465642745\n"
     ]
    }
   ],
   "source": [
    "result = math.log(54)\n",
    "print(result)"
   ]
  },
  {
   "cell_type": "code",
   "execution_count": 4,
   "metadata": {},
   "outputs": [
    {
     "name": "stdout",
     "output_type": "stream",
     "text": [
      "-0.6356744903915641 -0.6356744903915641\n"
     ]
    }
   ],
   "source": [
    "result1 = math.sqrt(8) - math.sqrt(12)\n",
    "result2 = 8**(1/2) - 12**(1/2)\n",
    "print(result1, result2)"
   ]
  },
  {
   "cell_type": "code",
   "execution_count": 9,
   "metadata": {},
   "outputs": [
    {
     "name": "stdout",
     "output_type": "stream",
     "text": [
      "0.0\n"
     ]
    }
   ],
   "source": [
    "result = math.sin(math.radians(45)) - math.cos(math.radians(45))\n",
    "print(result)"
   ]
  },
  {
   "cell_type": "markdown",
   "metadata": {
    "colab_type": "text",
    "id": "lUSN-KVtkdVu"
   },
   "source": [
    "### Задача 2\n",
    "\n",
    "Напишите программу, которая запрашивает у пользователя размер обуви, а выводит на экран размер скальных туфель (туфли для скалолазания), учитывая, что обычно размер скальных туфель на два размера меньше обычного.\n",
    "\n",
    "**Пример работы программы:**\n",
    "\n",
    "*Входные данные*\n",
    "\n",
    "    38\n",
    "\n",
    "*Выходные данные*\n",
    "\n",
    "    36"
   ]
  },
  {
   "cell_type": "code",
   "execution_count": 10,
   "metadata": {
    "colab": {},
    "colab_type": "code",
    "id": "234urC4DkdVv"
   },
   "outputs": [
    {
     "name": "stdout",
     "output_type": "stream",
     "text": [
      "Введите размер обуви: 40\n",
      "Ваш размер скальной обуви =  38\n"
     ]
    }
   ],
   "source": [
    "### YOUR CODE HERE ###\n",
    "shoe_size = input(\"Введите размер обуви: \")\n",
    "print(\"Ваш размер скальной обуви = \", int(shoe_size)-2)"
   ]
  },
  {
   "cell_type": "markdown",
   "metadata": {
    "colab_type": "text",
    "id": "Il01q2nXkdVy"
   },
   "source": [
    "### Задача 3\n",
    "\n",
    "Тест по английскому языку состоит из трёх частей. Ученик последовательно вводит с клавиатуры набранные баллы за каждую часть — три целых числа. Каждое число вводится на отдельной строке, то есть `input()` запрашивается три раза. Напишите программу, которая считает итоговый балл за тест — сумму баллов за три части.\n",
    "\n",
    "**Пример работы программы:**\n",
    "\n",
    "*Входные данные*\n",
    "\n",
    "    5\n",
    "    4\n",
    "    6\n",
    "    \n",
    "*Выходные данные*\n",
    "\n",
    "    15"
   ]
  },
  {
   "cell_type": "code",
   "execution_count": 11,
   "metadata": {
    "colab": {},
    "colab_type": "code",
    "id": "OQSXwixJkdVz"
   },
   "outputs": [
    {
     "name": "stdout",
     "output_type": "stream",
     "text": [
      "Введине оценку за часть 1: 1\n",
      "Введине оценку за часть 2: 2\n",
      "Введине оценку за часть 3: 3\n",
      "ваша итоговая оценка =  6\n"
     ]
    }
   ],
   "source": [
    "### YOUR CODE HERE ###\n",
    "estimation_1 = input(\"Введине оценку за часть 1: \")\n",
    "estimation_2 = input(\"Введине оценку за часть 2: \")\n",
    "estimation_3 = input(\"Введине оценку за часть 3: \")\n",
    "print(\"ваша итоговая оценка = \", int(estimation_1)+int(estimation_2)+int(estimation_3))"
   ]
  },
  {
   "cell_type": "markdown",
   "metadata": {
    "colab_type": "text",
    "id": "W1SVMo7XkdV2"
   },
   "source": [
    "### Задача 4\n",
    "\n",
    "В переменной `salary` хранится значение заработной платы человека в рублях (можете сами присвоить `salary` какое-нибудь значение).\n",
    "\n",
    "Напишите программу, которая выражает заработную плату человека в *тысячах рублей* и\n",
    "\n",
    "\n",
    "a) сохраняет результат в переменную `salary_th` и выводит результат на экран;\n",
    "\n",
    "b) выводит на экран сообщение (с подставленным вместо `___` значением):\n",
    "\n",
    "    Ваша заработная плата __ тысяч рублей.\n",
    "    \n",
    "**Пример работы программы (пункт a):**\n",
    "\n",
    "\n",
    "*Входные данные*\n",
    "\n",
    "    salary = 35000\n",
    "\n",
    "*Выходные данные*\n",
    "    \n",
    "    35\n",
    "    \n",
    "**Пример работы программы (пункт b):**\n",
    "\n",
    "\n",
    "*Входные данные*\n",
    "\n",
    "    salary = 35000\n",
    "\n",
    "*Выходные данные*\n",
    "    \n",
    "    Ваша заработная плата 35 тысяч рублей."
   ]
  },
  {
   "cell_type": "code",
   "execution_count": 14,
   "metadata": {
    "colab": {},
    "colab_type": "code",
    "id": "dVOAx8UokdV3"
   },
   "outputs": [
    {
     "name": "stdout",
     "output_type": "stream",
     "text": [
      "a:  80\n",
      "b: Ваша заработная плата 80 тысяч рублей\n"
     ]
    }
   ],
   "source": [
    "### YOUR CODE HERE ###\n",
    "salary = 80000\n",
    "\n",
    "salary_th = salary // 1000\n",
    "\n",
    "print(\"a: \", salary_th)\n",
    "print(f\"b: Ваша заработная плата {salary_th} тысяч рублей\")"
   ]
  },
  {
   "cell_type": "markdown",
   "metadata": {
    "colab_type": "text",
    "id": "Nd1Ju-tnkdV6"
   },
   "source": [
    "### Задача 5\n",
    "\n",
    "Напишите программу, которая запрашивает у пользователя сумму (в рублях), которую он хочет перевести своему другу на карту другого банка, и возвращает сумму списания (в рублях) с учётом комиссии банка 5%.\n",
    "\n",
    "*Примечание:* считайте, что сумма перевода — целое число.\n",
    "\n",
    "**Пример работы программы:**\n",
    "\n",
    "*Входные данные*\n",
    "\n",
    "    1000\n",
    "\n",
    "*Выходные данные*\n",
    "\n",
    "    1050.0"
   ]
  },
  {
   "cell_type": "code",
   "execution_count": 16,
   "metadata": {
    "colab": {},
    "colab_type": "code",
    "id": "7wqVY-tikdV6"
   },
   "outputs": [
    {
     "name": "stdout",
     "output_type": "stream",
     "text": [
      "Введине сумму перевода: 2002\n",
      "Списываеммая сумма 2102.1 рублей\n"
     ]
    }
   ],
   "source": [
    "### YOUR CODE HERE ###\n",
    "transfer_amount = int(input(\"Введине сумму перевода: \"))\n",
    "result_transfer_amount = transfer_amount + transfer_amount*0.05\n",
    "print(f\"Списываеммая сумма {result_transfer_amount} рублей\")"
   ]
  },
  {
   "cell_type": "markdown",
   "metadata": {
    "colab_type": "text",
    "id": "0kvyXTbDkdV9"
   },
   "source": [
    "### Задача 6\n",
    "\n",
    "Питон выполз на улицу погулять и решил поиграть: просил прохожих назвать какую-нибудь цифру (то есть ввести её с клавиатуры) и приписывал эту цифру к цифре, которую назвал предыдущий прохожий. Напишите код, который позволит определить, какое число получится после опроса четырёх прохожих, если известно, что первый прохожий назвал цифру 5. Задача не подразумевает использование циклов; запускать код несколько раз / копировать строки кода или ячейки можно. Обратите внимание: в результате должно получиться *целое число*, не строка.\n",
    "\n",
    "**Пример-пояснение:** первый назвал цифру 5, второй — цифру 6, третий ‒ 3. Получили число 563.\n",
    "\n",
    "**Пример работы программы:**\n",
    "\n",
    "*Входные данные*\n",
    "\n",
    "    5\n",
    "    6\n",
    "    3\n",
    "    0\n",
    "    \n",
    "*Выходные данные*\n",
    "    \n",
    "    5630\n",
    "\n",
    "**Подсказка:** для склеивания строк (такая операция называется *конкатенацией*) в Python используется `+`:"
   ]
  },
  {
   "cell_type": "code",
   "execution_count": null,
   "metadata": {
    "colab": {},
    "colab_type": "code",
    "id": "btYjLFjNkdV-",
    "outputId": "50606b06-cc69-4eb5-8a25-49eb37fc56ba"
   },
   "outputs": [
    {
     "name": "stdout",
     "output_type": "stream",
     "text": [
      "password\n"
     ]
    }
   ],
   "source": [
    "a = \"pass\"\n",
    "b = \"word\"\n",
    "\n",
    "print(a + b)"
   ]
  },
  {
   "cell_type": "code",
   "execution_count": 18,
   "metadata": {
    "colab": {},
    "colab_type": "code",
    "id": "ejsz4-uAkdWC"
   },
   "outputs": [
    {
     "name": "stdout",
     "output_type": "stream",
     "text": [
      "Введине число 2: 2\n",
      "Введине число 3: 3\n",
      "Введине число 4: 4\n",
      "Итоговое число:  5234\n"
     ]
    }
   ],
   "source": [
    "### YOUR CODE HERE ###\n",
    "number_1 = \"5\"\n",
    "number_2 = input(\"Введине число 2: \")\n",
    "number_3 = input(\"Введине число 3: \")\n",
    "number_4 = input(\"Введине число 4: \")\n",
    "print(\"Итоговое число: \", int(number_1+number_2+number_3+number_4))"
   ]
  },
  {
   "cell_type": "markdown",
   "metadata": {
    "colab_type": "text",
    "id": "Yr8GSn1JkdWG"
   },
   "source": [
    "### Задача 7* (дополнительная)\n",
    "\n",
    "Дано целое число `n`. Выведите следующее за ним чётное число. При решении этой задачи *нельзя* использовать условный оператор `if` и циклы.\n",
    "\n",
    "**Подсказка.** В Python существует оператор целочисленного деления `//` (обсуждался в видеоуроках) и взятия остатка при делении `%`. Например, результат выполнения операции `15 % 7` равен 1:"
   ]
  },
  {
   "cell_type": "code",
   "execution_count": null,
   "metadata": {
    "colab": {},
    "colab_type": "code",
    "id": "97tbuxIzkdWH",
    "outputId": "027afe5d-8b24-466e-ad2f-9f4e1bb4a0a3"
   },
   "outputs": [
    {
     "data": {
      "text/plain": [
       "1"
      ]
     },
     "execution_count": 3,
     "metadata": {
      "tags": []
     },
     "output_type": "execute_result"
    }
   ],
   "source": [
    "15 % 7 # 15 : 7 = 2 и 1 в остатке"
   ]
  },
  {
   "cell_type": "markdown",
   "metadata": {
    "colab_type": "text",
    "id": "IalVHEqWkdWL"
   },
   "source": [
    "**Примеры работы программы**\n",
    "\n",
    "*Входные данные*\n",
    "\n",
    "    7\n",
    "\n",
    "*Выходные данные*\n",
    "\n",
    "    8\n",
    "\n",
    "*Входные данные*\n",
    "\n",
    "    8\n",
    "\n",
    "*Выходные данные*\n",
    "\n",
    "    10"
   ]
  },
  {
   "cell_type": "code",
   "execution_count": 21,
   "metadata": {
    "colab": {},
    "colab_type": "code",
    "id": "8lJLYbCNkdWM"
   },
   "outputs": [
    {
     "name": "stdout",
     "output_type": "stream",
     "text": [
      "Введине число: 8\n",
      "Следующее чётное число 10\n"
     ]
    }
   ],
   "source": [
    "### YOUR CODE HERE ###\n",
    "number = int(input(\"Введине число: \"))\n",
    "print(\"Следующее чётное число\", ((number+2)//2) * 2)"
   ]
  }
 ],
 "metadata": {
  "colab": {
   "collapsed_sections": [],
   "name": "jun_anl_intro_hw.ipynb",
   "provenance": []
  },
  "kernelspec": {
   "display_name": "Python 3 (ipykernel)",
   "language": "python",
   "name": "python3"
  },
  "language_info": {
   "codemirror_mode": {
    "name": "ipython",
    "version": 3
   },
   "file_extension": ".py",
   "mimetype": "text/x-python",
   "name": "python",
   "nbconvert_exporter": "python",
   "pygments_lexer": "ipython3",
   "version": "3.9.12"
  }
 },
 "nbformat": 4,
 "nbformat_minor": 1
}
