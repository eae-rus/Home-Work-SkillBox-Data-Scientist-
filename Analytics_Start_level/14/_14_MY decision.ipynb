{
 "cells": [
  {
   "cell_type": "code",
   "execution_count": 1,
   "id": "b86869a1",
   "metadata": {},
   "outputs": [],
   "source": [
    "import pandas as pd\n",
    "import numpy as np\n",
    "from matplotlib import pyplot as plt"
   ]
  },
  {
   "cell_type": "code",
   "execution_count": 26,
   "id": "65f894f8",
   "metadata": {},
   "outputs": [],
   "source": [
    "data = pd.read_csv('ap-northeast-1.csv', parse_dates=True)"
   ]
  },
  {
   "cell_type": "code",
   "execution_count": 27,
   "id": "cdbfd02e",
   "metadata": {},
   "outputs": [
    {
     "data": {
      "text/html": [
       "<div>\n",
       "<style scoped>\n",
       "    .dataframe tbody tr th:only-of-type {\n",
       "        vertical-align: middle;\n",
       "    }\n",
       "\n",
       "    .dataframe tbody tr th {\n",
       "        vertical-align: top;\n",
       "    }\n",
       "\n",
       "    .dataframe thead th {\n",
       "        text-align: right;\n",
       "    }\n",
       "</style>\n",
       "<table border=\"1\" class=\"dataframe\">\n",
       "  <thead>\n",
       "    <tr style=\"text-align: right;\">\n",
       "      <th></th>\n",
       "      <th>data_time</th>\n",
       "      <th>instance_types</th>\n",
       "      <th>OS</th>\n",
       "      <th>regions_and_zones</th>\n",
       "      <th>price</th>\n",
       "    </tr>\n",
       "  </thead>\n",
       "  <tbody>\n",
       "    <tr>\n",
       "      <th>0</th>\n",
       "      <td>2017-05-08 21:46:36+00:00</td>\n",
       "      <td>c3.8xlarge</td>\n",
       "      <td>Windows</td>\n",
       "      <td>ap-northeast-1a</td>\n",
       "      <td>1.6503</td>\n",
       "    </tr>\n",
       "    <tr>\n",
       "      <th>1</th>\n",
       "      <td>2017-05-08 21:46:36+00:00</td>\n",
       "      <td>c3.8xlarge</td>\n",
       "      <td>Windows</td>\n",
       "      <td>ap-northeast-1c</td>\n",
       "      <td>1.7461</td>\n",
       "    </tr>\n",
       "    <tr>\n",
       "      <th>2</th>\n",
       "      <td>2017-05-08 21:46:34+00:00</td>\n",
       "      <td>i3.large</td>\n",
       "      <td>SUSE Linux</td>\n",
       "      <td>ap-northeast-1c</td>\n",
       "      <td>0.1223</td>\n",
       "    </tr>\n",
       "    <tr>\n",
       "      <th>3</th>\n",
       "      <td>2017-05-08 21:46:34+00:00</td>\n",
       "      <td>i3.large</td>\n",
       "      <td>Linux/UNIX</td>\n",
       "      <td>ap-northeast-1c</td>\n",
       "      <td>0.0223</td>\n",
       "    </tr>\n",
       "    <tr>\n",
       "      <th>4</th>\n",
       "      <td>2017-05-08 21:46:17+00:00</td>\n",
       "      <td>c4.8xlarge</td>\n",
       "      <td>SUSE Linux</td>\n",
       "      <td>ap-northeast-1a</td>\n",
       "      <td>0.7890</td>\n",
       "    </tr>\n",
       "  </tbody>\n",
       "</table>\n",
       "</div>"
      ],
      "text/plain": [
       "                   data_time instance_types          OS regions_and_zones  \\\n",
       "0  2017-05-08 21:46:36+00:00     c3.8xlarge     Windows   ap-northeast-1a   \n",
       "1  2017-05-08 21:46:36+00:00     c3.8xlarge     Windows   ap-northeast-1c   \n",
       "2  2017-05-08 21:46:34+00:00       i3.large  SUSE Linux   ap-northeast-1c   \n",
       "3  2017-05-08 21:46:34+00:00       i3.large  Linux/UNIX   ap-northeast-1c   \n",
       "4  2017-05-08 21:46:17+00:00     c4.8xlarge  SUSE Linux   ap-northeast-1a   \n",
       "\n",
       "    price  \n",
       "0  1.6503  \n",
       "1  1.7461  \n",
       "2  0.1223  \n",
       "3  0.0223  \n",
       "4  0.7890  "
      ]
     },
     "execution_count": 27,
     "metadata": {},
     "output_type": "execute_result"
    }
   ],
   "source": [
    "data.head()"
   ]
  },
  {
   "cell_type": "code",
   "execution_count": 28,
   "id": "2d0c7f9e",
   "metadata": {},
   "outputs": [],
   "source": [
    "data_windows = data[data[\"OS\"] == \"Windows\"]"
   ]
  },
  {
   "cell_type": "code",
   "execution_count": 29,
   "id": "9064d29e",
   "metadata": {},
   "outputs": [
    {
     "data": {
      "text/html": [
       "<div>\n",
       "<style scoped>\n",
       "    .dataframe tbody tr th:only-of-type {\n",
       "        vertical-align: middle;\n",
       "    }\n",
       "\n",
       "    .dataframe tbody tr th {\n",
       "        vertical-align: top;\n",
       "    }\n",
       "\n",
       "    .dataframe thead th {\n",
       "        text-align: right;\n",
       "    }\n",
       "</style>\n",
       "<table border=\"1\" class=\"dataframe\">\n",
       "  <thead>\n",
       "    <tr style=\"text-align: right;\">\n",
       "      <th></th>\n",
       "      <th>data_time</th>\n",
       "      <th>instance_types</th>\n",
       "      <th>OS</th>\n",
       "      <th>regions_and_zones</th>\n",
       "      <th>price</th>\n",
       "    </tr>\n",
       "  </thead>\n",
       "  <tbody>\n",
       "    <tr>\n",
       "      <th>0</th>\n",
       "      <td>2017-05-08 21:46:36+00:00</td>\n",
       "      <td>c3.8xlarge</td>\n",
       "      <td>Windows</td>\n",
       "      <td>ap-northeast-1a</td>\n",
       "      <td>1.6503</td>\n",
       "    </tr>\n",
       "    <tr>\n",
       "      <th>1</th>\n",
       "      <td>2017-05-08 21:46:36+00:00</td>\n",
       "      <td>c3.8xlarge</td>\n",
       "      <td>Windows</td>\n",
       "      <td>ap-northeast-1c</td>\n",
       "      <td>1.7461</td>\n",
       "    </tr>\n",
       "    <tr>\n",
       "      <th>16</th>\n",
       "      <td>2017-05-08 21:46:03+00:00</td>\n",
       "      <td>c4.8xlarge</td>\n",
       "      <td>Windows</td>\n",
       "      <td>ap-northeast-1a</td>\n",
       "      <td>1.6561</td>\n",
       "    </tr>\n",
       "    <tr>\n",
       "      <th>23</th>\n",
       "      <td>2017-05-08 21:45:53+00:00</td>\n",
       "      <td>c4.xlarge</td>\n",
       "      <td>Windows</td>\n",
       "      <td>ap-northeast-1c</td>\n",
       "      <td>0.2139</td>\n",
       "    </tr>\n",
       "    <tr>\n",
       "      <th>26</th>\n",
       "      <td>2017-05-08 21:45:16+00:00</td>\n",
       "      <td>r3.8xlarge</td>\n",
       "      <td>Windows</td>\n",
       "      <td>ap-northeast-1c</td>\n",
       "      <td>1.0246</td>\n",
       "    </tr>\n",
       "  </tbody>\n",
       "</table>\n",
       "</div>"
      ],
      "text/plain": [
       "                    data_time instance_types       OS regions_and_zones  \\\n",
       "0   2017-05-08 21:46:36+00:00     c3.8xlarge  Windows   ap-northeast-1a   \n",
       "1   2017-05-08 21:46:36+00:00     c3.8xlarge  Windows   ap-northeast-1c   \n",
       "16  2017-05-08 21:46:03+00:00     c4.8xlarge  Windows   ap-northeast-1a   \n",
       "23  2017-05-08 21:45:53+00:00      c4.xlarge  Windows   ap-northeast-1c   \n",
       "26  2017-05-08 21:45:16+00:00     r3.8xlarge  Windows   ap-northeast-1c   \n",
       "\n",
       "     price  \n",
       "0   1.6503  \n",
       "1   1.7461  \n",
       "16  1.6561  \n",
       "23  0.2139  \n",
       "26  1.0246  "
      ]
     },
     "execution_count": 29,
     "metadata": {},
     "output_type": "execute_result"
    }
   ],
   "source": [
    "data_windows.head()"
   ]
  },
  {
   "cell_type": "code",
   "execution_count": 30,
   "id": "1fa17897",
   "metadata": {},
   "outputs": [
    {
     "name": "stdout",
     "output_type": "stream",
     "text": [
      "(1957000, 5)\n",
      "(393568, 5)\n"
     ]
    }
   ],
   "source": [
    "print(data.shape)\n",
    "print(data_windows.shape)"
   ]
  },
  {
   "cell_type": "code",
   "execution_count": 35,
   "id": "e9ac27cc",
   "metadata": {},
   "outputs": [
    {
     "data": {
      "image/png": "[encoded data removed]",
      "text/plain": [
       "<Figure size 432x288 with 1 Axes>"
      ]
     },
     "metadata": {
      "needs_background": "light"
     },
     "output_type": "display_data"
    }
   ],
   "source": [
    "plt.plot(data_windows[:100].data_time, data_windows[:100].price)\n",
    "plt.show()"
   ]
  }
 ],
 "metadata": {
  "kernelspec": {
   "display_name": "Python 3 (ipykernel)",
   "language": "python",
   "name": "python3"
  },
  "language_info": {
   "codemirror_mode": {
    "name": "ipython",
    "version": 3
   },
   "file_extension": ".py",
   "mimetype": "text/x-python",
   "name": "python",
   "nbconvert_exporter": "python",
   "pygments_lexer": "ipython3",
   "version": "3.9.12"
  }
 },
 "nbformat": 4,
 "nbformat_minor": 5
}
