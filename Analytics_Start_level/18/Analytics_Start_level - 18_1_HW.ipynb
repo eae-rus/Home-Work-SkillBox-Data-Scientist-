{
 "cells": [
  {
   "cell_type": "markdown",
   "metadata": {
    "id": "zgfg6PaTrknK"
   },
   "source": [
    "# Чтение и запись данных\n"
   ]
  },
  {
   "cell_type": "code",
   "execution_count": 87,
   "metadata": {
    "id": "qpd3wki0rknL"
   },
   "outputs": [],
   "source": [
    "import requests\n",
    "import json\n",
    "import pandas as pd"
   ]
  },
  {
   "cell_type": "markdown",
   "metadata": {
    "id": "FOXDpSRnrknP"
   },
   "source": [
    "## Урок 1. Чтение данных из web-сервиса\n",
    "\n",
    "### Практика\n",
    "\n",
    "#### Задание 1\n",
    "\n",
    "Используя сервис MetaWeather, найдите идентификатор города Париж (Paris). Для запроса используйте адрес из следующей ячейки, заменив `%city%` на имя города."
   ]
  },
  {
   "cell_type": "code",
   "execution_count": 85,
   "metadata": {
    "id": "1Xljt65SrknP"
   },
   "outputs": [
    {
     "name": "stdout",
     "output_type": "stream",
     "text": [
      "city: ['Ivanovo (RU)', 'Ivanovo (BG)', 'Obshtina Ivanovo (BG)', 'Ivanovo (RS)', 'Ivanovo (RU)']\n",
      "city_id= 555312\n"
     ]
    }
   ],
   "source": [
    "# Использую сайт \"openweathermap\" и ищу погоду в своём городе - Иваново\n",
    "\n",
    "s_city = \"Ivanovo\"\n",
    "city_id = 0\n",
    "appid = \"924d34e4fd642d5c55f44bc654d79277\"\n",
    "\n",
    "try:\n",
    "    res = requests.get(\"http://api.openweathermap.org/data/2.5/find\",\n",
    "                 params={'q': s_city, 'type': 'like', 'units': 'metric', 'lang': 'ru', 'APPID': appid})\n",
    "    data = res.json()    \n",
    "    cities = [\"{} ({})\".format(d['name'], d['sys']['country'])\n",
    "              for d in data['list']]\n",
    "    print(\"city:\", cities)\n",
    "    city_id = data['list'][0]['id']\n",
    "    print('city_id=', city_id)\n",
    "\n",
    "except Exception as e:\n",
    "    print(\"Exception (find):\", e)\n",
    "    pass\n"
   ]
  },
  {
   "cell_type": "code",
   "execution_count": 68,
   "metadata": {},
   "outputs": [
    {
     "name": "stdout",
     "output_type": "stream",
     "text": [
      "conditions: пасмурно\n",
      "temp: -4.03\n",
      "temp_min: -4.03\n",
      "temp_max: -4.03\n"
     ]
    }
   ],
   "source": [
    "#Запрос погоды сейчас\n",
    "\n",
    "try:\n",
    "    res = requests.get(\"http://api.openweathermap.org/data/2.5/weather\",\n",
    "                 params={'id': city_id, 'units': 'metric', 'lang': 'ru', 'APPID': appid})\n",
    "    data = res.json()\n",
    "    print(\"conditions:\", data['weather'][0]['description'])\n",
    "    print(\"temp:\", data['main']['temp'])\n",
    "    print(\"temp_min:\", data['main']['temp_min'])\n",
    "    print(\"temp_max:\", data['main']['temp_max'])\n",
    "\n",
    "except Exception as e:\n",
    "    print(\"Exception (find):\", e)\n",
    "    pass"
   ]
  },
  {
   "cell_type": "code",
   "execution_count": 71,
   "metadata": {},
   "outputs": [
    {
     "name": "stdout",
     "output_type": "stream",
     "text": [
      "2023-01-21 15:00:00  -4 пасмурно\n",
      "2023-01-21 18:00:00  -5 пасмурно\n",
      "2023-01-21 21:00:00  -9 пасмурно\n",
      "2023-01-22 00:00:00  -9 пасмурно\n",
      "2023-01-22 03:00:00  -9 пасмурно\n",
      "2023-01-22 06:00:00 -14 пасмурно\n",
      "2023-01-22 09:00:00  -7 переменная облачность\n",
      "2023-01-22 12:00:00  -7 облачно с прояснениями\n",
      "2023-01-22 15:00:00 -13 облачно с прояснениями\n",
      "2023-01-22 18:00:00 -15 пасмурно\n",
      "2023-01-22 21:00:00 -15 пасмурно\n",
      "2023-01-23 00:00:00 -17 пасмурно\n",
      "2023-01-23 03:00:00 -19 пасмурно\n",
      "2023-01-23 06:00:00 -19 пасмурно\n",
      "2023-01-23 09:00:00  -8 пасмурно\n",
      "2023-01-23 12:00:00  -7 пасмурно\n",
      "2023-01-23 15:00:00 -13 пасмурно\n",
      "2023-01-23 18:00:00 -16 пасмурно\n",
      "2023-01-23 21:00:00 -16 пасмурно\n",
      "2023-01-24 00:00:00 -15 пасмурно\n",
      "2023-01-24 03:00:00 -14 пасмурно\n",
      "2023-01-24 06:00:00 -14 облачно с прояснениями\n",
      "2023-01-24 09:00:00  -6 ясно\n",
      "2023-01-24 12:00:00  -4 ясно\n",
      "2023-01-24 15:00:00  -7 пасмурно\n",
      "2023-01-24 18:00:00  -6 пасмурно\n",
      "2023-01-24 21:00:00  -5 пасмурно\n",
      "2023-01-25 00:00:00  -5 пасмурно\n",
      "2023-01-25 03:00:00  -6 пасмурно\n",
      "2023-01-25 06:00:00  -7 пасмурно\n",
      "2023-01-25 09:00:00  -3 пасмурно\n",
      "2023-01-25 12:00:00  -1 пасмурно\n",
      "2023-01-25 15:00:00  -2 пасмурно\n",
      "2023-01-25 18:00:00  -3 пасмурно\n",
      "2023-01-25 21:00:00  -5 облачно с прояснениями\n",
      "2023-01-26 00:00:00  -6 облачно с прояснениями\n",
      "2023-01-26 03:00:00  -6 небольшая облачность\n",
      "2023-01-26 06:00:00  -6 небольшая облачность\n",
      "2023-01-26 09:00:00  -3 небольшая облачность\n",
      "2023-01-26 12:00:00  -2 ясно\n"
     ]
    }
   ],
   "source": [
    "#Прогноз погоды на 5 дней\n",
    "\n",
    "try:\n",
    "    res = requests.get(\"http://api.openweathermap.org/data/2.5/forecast\",\n",
    "                        params={'id': city_id, 'units': 'metric', 'lang': 'ru', 'APPID': appid})\n",
    "    data = res.json()\n",
    "    for i in data['list']:\n",
    "        print( i['dt_txt'], '{0:+3.0f}'.format(i['main']['temp']), i['weather'][0]['description'] )\n",
    "except Exception as e:\n",
    "    print(\"Exception (forecast):\", e)\n",
    "    pass"
   ]
  },
  {
   "cell_type": "markdown",
   "metadata": {
    "id": "H0XwvPuJrknR"
   },
   "source": [
    "#### Задание 2\n",
    "\n",
    "Используя полученный идентификатор города, запросите данные о погоде в Париже за 28 мая 2020 года. Для запроса используйте адрес из следующей ячейки, заменив `%city_id%`, `%year%`, `%month%`, `%day%` на идентификатор города, год, месяц и день соответственно."
   ]
  },
  {
   "cell_type": "code",
   "execution_count": 75,
   "metadata": {},
   "outputs": [
    {
     "data": {
      "text/plain": [
       "{'message': 'like',\n",
       " 'cod': '200',\n",
       " 'count': 5,\n",
       " 'list': [{'id': 555312,\n",
       "   'name': 'Ivanovo',\n",
       "   'coord': {'lat': 56.9942, 'lon': 40.9858},\n",
       "   'main': {'temp': -5.64,\n",
       "    'feels_like': -10.02,\n",
       "    'temp_min': -5.64,\n",
       "    'temp_max': -5.64,\n",
       "    'pressure': 1037,\n",
       "    'humidity': 93,\n",
       "    'sea_level': 1037,\n",
       "    'grnd_level': 1020},\n",
       "   'dt': 1674317345,\n",
       "   'wind': {'speed': 2.77, 'deg': 153},\n",
       "   'sys': {'country': 'RU'},\n",
       "   'rain': None,\n",
       "   'snow': None,\n",
       "   'clouds': {'all': 100},\n",
       "   'weather': [{'id': 804,\n",
       "     'main': 'Clouds',\n",
       "     'description': 'пасмурно',\n",
       "     'icon': '04n'}]},\n",
       "  {'id': 730852,\n",
       "   'name': 'Ivanovo',\n",
       "   'coord': {'lat': 43.7, 'lon': 25.9833},\n",
       "   'main': {'temp': 11.96,\n",
       "    'feels_like': 11.17,\n",
       "    'temp_min': 11.96,\n",
       "    'temp_max': 11.96,\n",
       "    'pressure': 1013,\n",
       "    'humidity': 75,\n",
       "    'sea_level': 1013,\n",
       "    'grnd_level': 1003},\n",
       "   'dt': 1674317137,\n",
       "   'wind': {'speed': 6.01, 'deg': 150},\n",
       "   'sys': {'country': 'BG'},\n",
       "   'rain': None,\n",
       "   'snow': None,\n",
       "   'clouds': {'all': 29},\n",
       "   'weather': [{'id': 802,\n",
       "     'main': 'Clouds',\n",
       "     'description': 'переменная облачность',\n",
       "     'icon': '03n'}]},\n",
       "  {'id': 730851,\n",
       "   'name': 'Obshtina Ivanovo',\n",
       "   'coord': {'lat': 43.7, 'lon': 25.9833},\n",
       "   'main': {'temp': 11.96,\n",
       "    'feels_like': 11.17,\n",
       "    'temp_min': 11.96,\n",
       "    'temp_max': 11.96,\n",
       "    'pressure': 1013,\n",
       "    'humidity': 75,\n",
       "    'sea_level': 1013,\n",
       "    'grnd_level': 1003},\n",
       "   'dt': 1674317137,\n",
       "   'wind': {'speed': 6.01, 'deg': 150},\n",
       "   'sys': {'country': 'BG'},\n",
       "   'rain': None,\n",
       "   'snow': None,\n",
       "   'clouds': {'all': 29},\n",
       "   'weather': [{'id': 802,\n",
       "     'main': 'Clouds',\n",
       "     'description': 'переменная облачность',\n",
       "     'icon': '03n'}]},\n",
       "  {'id': 789982,\n",
       "   'name': 'Ivanovo',\n",
       "   'coord': {'lat': 44.7392, 'lon': 20.6975},\n",
       "   'main': {'temp': 3.28,\n",
       "    'feels_like': -0.87,\n",
       "    'temp_min': 3.05,\n",
       "    'temp_max': 3.31,\n",
       "    'pressure': 1011,\n",
       "    'humidity': 70,\n",
       "    'sea_level': 1011,\n",
       "    'grnd_level': 1002},\n",
       "   'dt': 1674317140,\n",
       "   'wind': {'speed': 5.11, 'deg': 108},\n",
       "   'sys': {'country': 'RS'},\n",
       "   'rain': None,\n",
       "   'snow': None,\n",
       "   'clouds': {'all': 100},\n",
       "   'weather': [{'id': 804,\n",
       "     'main': 'Clouds',\n",
       "     'description': 'пасмурно',\n",
       "     'icon': '04n'}]},\n",
       "  {'id': 6608392,\n",
       "   'name': 'Ivanovo',\n",
       "   'coord': {'lat': 56.6914, 'lon': 43.4161},\n",
       "   'main': {'temp': -7.39,\n",
       "    'feels_like': -12.69,\n",
       "    'temp_min': -7.39,\n",
       "    'temp_max': -7.39,\n",
       "    'pressure': 1039,\n",
       "    'humidity': 91,\n",
       "    'sea_level': 1039,\n",
       "    'grnd_level': 1025},\n",
       "   'dt': 1674317699,\n",
       "   'wind': {'speed': 3.29, 'deg': 155},\n",
       "   'sys': {'country': 'RU'},\n",
       "   'rain': None,\n",
       "   'snow': None,\n",
       "   'clouds': {'all': 100},\n",
       "   'weather': [{'id': 804,\n",
       "     'main': 'Clouds',\n",
       "     'description': 'пасмурно',\n",
       "     'icon': '04n'}]}]}"
      ]
     },
     "execution_count": 75,
     "metadata": {},
     "output_type": "execute_result"
    }
   ],
   "source": [
    "try:\n",
    "    res = requests.get(\"http://api.openweathermap.org/data/2.5/find\",\n",
    "                 params={'q': s_city, 'type': 'like', 'units': 'metric', 'lang': 'ru', 'APPID': appid})\n",
    "    data = res.json()    \n",
    "except Exception as e:\n",
    "    print(\"Exception (find):\", e)\n",
    "    pass\n",
    "\n",
    "data"
   ]
  },
  {
   "cell_type": "code",
   "execution_count": 83,
   "metadata": {
    "id": "tjsftok3rknS"
   },
   "outputs": [
    {
     "data": {
      "text/plain": [
       "{'cod': 401,\n",
       " 'message': 'Invalid API key. Please see http://openweathermap.org/faq#error401 for more info.'}"
      ]
     },
     "execution_count": 83,
     "metadata": {},
     "output_type": "execute_result"
    }
   ],
   "source": [
    "#Прогноз погоды в Иваново от 28 мая 2020 года\n",
    "### \n",
    "# Нужен платеный тариф...\n",
    "###\n",
    "\n",
    "start_date = '2020-05-28T00:00:00.000Z'\n",
    "end_date = '2020-05-29T00:00:00.000Z'\n",
    "\n",
    "\n",
    "try:\n",
    "    res = requests.get(\"http://www.openweathermap.org/data/2.5/history/city?q=Ivanovo&APPID=924d34e4fd642d5c55f44bc654d79277&type=day&cnt=30\")\n",
    "    data = res.json()\n",
    "except Exception as e:\n",
    "    print(\"Exception (forecast):\", e)\n",
    "    pass\n",
    "\n",
    "data"
   ]
  }
 ],
 "metadata": {
  "colab": {
   "provenance": []
  },
  "kernelspec": {
   "display_name": "Python 3 (ipykernel)",
   "language": "python",
   "name": "python3"
  },
  "language_info": {
   "codemirror_mode": {
    "name": "ipython",
    "version": 3
   },
   "file_extension": ".py",
   "mimetype": "text/x-python",
   "name": "python",
   "nbconvert_exporter": "python",
   "pygments_lexer": "ipython3",
   "version": "3.9.13"
  }
 },
 "nbformat": 4,
 "nbformat_minor": 1
}
