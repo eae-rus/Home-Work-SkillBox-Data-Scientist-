{
 "cells": [
  {
   "cell_type": "markdown",
   "metadata": {
    "id": "g5_bJDTG_QJw"
   },
   "source": [
    "# Чтение и запись данных\n"
   ]
  },
  {
   "cell_type": "code",
   "execution_count": 15,
   "metadata": {
    "id": "vc64K_il_QJ0"
   },
   "outputs": [],
   "source": [
    "import requests\n",
    "import json\n",
    "import pandas as pd"
   ]
  },
  {
   "cell_type": "markdown",
   "metadata": {
    "id": "azHzSUyx_QKF"
   },
   "source": [
    "## Урок 2. Чтение и запись файлов в формате JSON\n",
    "\n",
    "### Практика\n",
    "\n",
    "#### Задание 1 \n",
    "\n",
    "Используя сервис MetaWeather, найдите идентификатор Москвы (Moscow). Для запроса используйте адрес из следующей ячейки, заменив `%city%` на имя города."
   ]
  },
  {
   "cell_type": "code",
   "execution_count": 16,
   "metadata": {
    "id": "S-mrH_cC_QKJ"
   },
   "outputs": [
    {
     "data": {
      "text/plain": [
       "{'message': 'like',\n",
       " 'cod': '200',\n",
       " 'count': 5,\n",
       " 'list': [{'id': 555312,\n",
       "   'name': 'Ivanovo',\n",
       "   'coord': {'lat': 56.9942, 'lon': 40.9858},\n",
       "   'main': {'temp': -5.64,\n",
       "    'feels_like': -10.02,\n",
       "    'temp_min': -5.64,\n",
       "    'temp_max': -5.64,\n",
       "    'pressure': 1037,\n",
       "    'humidity': 93,\n",
       "    'sea_level': 1037,\n",
       "    'grnd_level': 1020},\n",
       "   'dt': 1674317345,\n",
       "   'wind': {'speed': 2.77, 'deg': 153},\n",
       "   'sys': {'country': 'RU'},\n",
       "   'rain': None,\n",
       "   'snow': None,\n",
       "   'clouds': {'all': 100},\n",
       "   'weather': [{'id': 804,\n",
       "     'main': 'Clouds',\n",
       "     'description': 'пасмурно',\n",
       "     'icon': '04n'}]},\n",
       "  {'id': 730852,\n",
       "   'name': 'Ivanovo',\n",
       "   'coord': {'lat': 43.7, 'lon': 25.9833},\n",
       "   'main': {'temp': 11.96,\n",
       "    'feels_like': 11.17,\n",
       "    'temp_min': 11.96,\n",
       "    'temp_max': 11.96,\n",
       "    'pressure': 1013,\n",
       "    'humidity': 75,\n",
       "    'sea_level': 1013,\n",
       "    'grnd_level': 1003},\n",
       "   'dt': 1674317137,\n",
       "   'wind': {'speed': 6.01, 'deg': 150},\n",
       "   'sys': {'country': 'BG'},\n",
       "   'rain': None,\n",
       "   'snow': None,\n",
       "   'clouds': {'all': 29},\n",
       "   'weather': [{'id': 802,\n",
       "     'main': 'Clouds',\n",
       "     'description': 'переменная облачность',\n",
       "     'icon': '03n'}]},\n",
       "  {'id': 730851,\n",
       "   'name': 'Obshtina Ivanovo',\n",
       "   'coord': {'lat': 43.7, 'lon': 25.9833},\n",
       "   'main': {'temp': 11.96,\n",
       "    'feels_like': 11.17,\n",
       "    'temp_min': 11.96,\n",
       "    'temp_max': 11.96,\n",
       "    'pressure': 1013,\n",
       "    'humidity': 75,\n",
       "    'sea_level': 1013,\n",
       "    'grnd_level': 1003},\n",
       "   'dt': 1674317137,\n",
       "   'wind': {'speed': 6.01, 'deg': 150},\n",
       "   'sys': {'country': 'BG'},\n",
       "   'rain': None,\n",
       "   'snow': None,\n",
       "   'clouds': {'all': 29},\n",
       "   'weather': [{'id': 802,\n",
       "     'main': 'Clouds',\n",
       "     'description': 'переменная облачность',\n",
       "     'icon': '03n'}]},\n",
       "  {'id': 789982,\n",
       "   'name': 'Ivanovo',\n",
       "   'coord': {'lat': 44.7392, 'lon': 20.6975},\n",
       "   'main': {'temp': 3.28,\n",
       "    'feels_like': -0.87,\n",
       "    'temp_min': 3.05,\n",
       "    'temp_max': 3.31,\n",
       "    'pressure': 1011,\n",
       "    'humidity': 70,\n",
       "    'sea_level': 1011,\n",
       "    'grnd_level': 1002},\n",
       "   'dt': 1674317140,\n",
       "   'wind': {'speed': 5.11, 'deg': 108},\n",
       "   'sys': {'country': 'RS'},\n",
       "   'rain': None,\n",
       "   'snow': None,\n",
       "   'clouds': {'all': 100},\n",
       "   'weather': [{'id': 804,\n",
       "     'main': 'Clouds',\n",
       "     'description': 'пасмурно',\n",
       "     'icon': '04n'}]},\n",
       "  {'id': 6608392,\n",
       "   'name': 'Ivanovo',\n",
       "   'coord': {'lat': 56.6914, 'lon': 43.4161},\n",
       "   'main': {'temp': -7.39,\n",
       "    'feels_like': -12.69,\n",
       "    'temp_min': -7.39,\n",
       "    'temp_max': -7.39,\n",
       "    'pressure': 1039,\n",
       "    'humidity': 91,\n",
       "    'sea_level': 1039,\n",
       "    'grnd_level': 1025},\n",
       "   'dt': 1674317699,\n",
       "   'wind': {'speed': 3.29, 'deg': 155},\n",
       "   'sys': {'country': 'RU'},\n",
       "   'rain': None,\n",
       "   'snow': None,\n",
       "   'clouds': {'all': 100},\n",
       "   'weather': [{'id': 804,\n",
       "     'main': 'Clouds',\n",
       "     'description': 'пасмурно',\n",
       "     'icon': '04n'}]}]}"
      ]
     },
     "execution_count": 16,
     "metadata": {},
     "output_type": "execute_result"
    }
   ],
   "source": [
    "## получаю json файл\n",
    "\n",
    "s_city = \"Ivanovo\"\n",
    "city_id = 0\n",
    "appid = \"924d34e4fd642d5c55f44bc654d79277\"\n",
    "\n",
    "try:\n",
    "    res = requests.get(\"http://api.openweathermap.org/data/2.5/find\",\n",
    "                 params={'q': s_city, 'type': 'like', 'units': 'metric', 'lang': 'ru', 'APPID': appid})\n",
    "    data = res.json()    \n",
    "except Exception as e:\n",
    "    print(\"Exception (find):\", e)\n",
    "    pass\n",
    "\n",
    "data"
   ]
  },
  {
   "cell_type": "markdown",
   "metadata": {
    "id": "rCWH6UNH_QKX"
   },
   "source": [
    "#### Задание 2 \n",
    "\n",
    "Используя полученный идентификатор города, запросите данные о погоде в Москве за 28 апреля 2020 года. Для запроса используйте адрес из следующей ячейки, заменив `%city_id%`, `%year%`, `%month%`, `%day%` на идентификатор города, год, месяц и день соответственно."
   ]
  },
  {
   "cell_type": "code",
   "execution_count": null,
   "metadata": {
    "id": "fKYwn-Iz_QKa"
   },
   "outputs": [],
   "source": [
    "url = 'https://www.metaweather.com/api/location/%city_id%/%year%/%month%/%day%/'\n"
   ]
  },
  {
   "cell_type": "markdown",
   "metadata": {
    "id": "VeTB_VLo_QKl"
   },
   "source": [
    "#### Задание 3 \n",
    "\n",
    "Сохраните полученные данные в файл `file.json`. Для форматирования файла используйте четыре пробела."
   ]
  },
  {
   "cell_type": "code",
   "execution_count": 17,
   "metadata": {
    "id": "6RKs950M_QKm"
   },
   "outputs": [],
   "source": [
    "with open('file.json', 'w') as file:\n",
    "    json.dump(data, file, indent=4)"
   ]
  },
  {
   "cell_type": "markdown",
   "metadata": {
    "id": "dpCG2qxv_QKw"
   },
   "source": [
    "#### Задание 4 \n",
    "\n",
    "Загрузите содержимое файла `file.json` в DataFrame и выведите первые пять строк на экран."
   ]
  },
  {
   "cell_type": "code",
   "execution_count": 18,
   "metadata": {
    "id": "1wug7UER_QKx"
   },
   "outputs": [
    {
     "data": {
      "text/plain": [
       "{'message': 'like',\n",
       " 'cod': '200',\n",
       " 'count': 5,\n",
       " 'list': [{'id': 555312,\n",
       "   'name': 'Ivanovo',\n",
       "   'coord': {'lat': 56.9942, 'lon': 40.9858},\n",
       "   'main': {'temp': -5.64,\n",
       "    'feels_like': -10.02,\n",
       "    'temp_min': -5.64,\n",
       "    'temp_max': -5.64,\n",
       "    'pressure': 1037,\n",
       "    'humidity': 93,\n",
       "    'sea_level': 1037,\n",
       "    'grnd_level': 1020},\n",
       "   'dt': 1674317345,\n",
       "   'wind': {'speed': 2.77, 'deg': 153},\n",
       "   'sys': {'country': 'RU'},\n",
       "   'rain': None,\n",
       "   'snow': None,\n",
       "   'clouds': {'all': 100},\n",
       "   'weather': [{'id': 804,\n",
       "     'main': 'Clouds',\n",
       "     'description': 'пасмурно',\n",
       "     'icon': '04n'}]},\n",
       "  {'id': 730852,\n",
       "   'name': 'Ivanovo',\n",
       "   'coord': {'lat': 43.7, 'lon': 25.9833},\n",
       "   'main': {'temp': 11.96,\n",
       "    'feels_like': 11.17,\n",
       "    'temp_min': 11.96,\n",
       "    'temp_max': 11.96,\n",
       "    'pressure': 1013,\n",
       "    'humidity': 75,\n",
       "    'sea_level': 1013,\n",
       "    'grnd_level': 1003},\n",
       "   'dt': 1674317137,\n",
       "   'wind': {'speed': 6.01, 'deg': 150},\n",
       "   'sys': {'country': 'BG'},\n",
       "   'rain': None,\n",
       "   'snow': None,\n",
       "   'clouds': {'all': 29},\n",
       "   'weather': [{'id': 802,\n",
       "     'main': 'Clouds',\n",
       "     'description': 'переменная облачность',\n",
       "     'icon': '03n'}]},\n",
       "  {'id': 730851,\n",
       "   'name': 'Obshtina Ivanovo',\n",
       "   'coord': {'lat': 43.7, 'lon': 25.9833},\n",
       "   'main': {'temp': 11.96,\n",
       "    'feels_like': 11.17,\n",
       "    'temp_min': 11.96,\n",
       "    'temp_max': 11.96,\n",
       "    'pressure': 1013,\n",
       "    'humidity': 75,\n",
       "    'sea_level': 1013,\n",
       "    'grnd_level': 1003},\n",
       "   'dt': 1674317137,\n",
       "   'wind': {'speed': 6.01, 'deg': 150},\n",
       "   'sys': {'country': 'BG'},\n",
       "   'rain': None,\n",
       "   'snow': None,\n",
       "   'clouds': {'all': 29},\n",
       "   'weather': [{'id': 802,\n",
       "     'main': 'Clouds',\n",
       "     'description': 'переменная облачность',\n",
       "     'icon': '03n'}]},\n",
       "  {'id': 789982,\n",
       "   'name': 'Ivanovo',\n",
       "   'coord': {'lat': 44.7392, 'lon': 20.6975},\n",
       "   'main': {'temp': 3.28,\n",
       "    'feels_like': -0.87,\n",
       "    'temp_min': 3.05,\n",
       "    'temp_max': 3.31,\n",
       "    'pressure': 1011,\n",
       "    'humidity': 70,\n",
       "    'sea_level': 1011,\n",
       "    'grnd_level': 1002},\n",
       "   'dt': 1674317140,\n",
       "   'wind': {'speed': 5.11, 'deg': 108},\n",
       "   'sys': {'country': 'RS'},\n",
       "   'rain': None,\n",
       "   'snow': None,\n",
       "   'clouds': {'all': 100},\n",
       "   'weather': [{'id': 804,\n",
       "     'main': 'Clouds',\n",
       "     'description': 'пасмурно',\n",
       "     'icon': '04n'}]},\n",
       "  {'id': 6608392,\n",
       "   'name': 'Ivanovo',\n",
       "   'coord': {'lat': 56.6914, 'lon': 43.4161},\n",
       "   'main': {'temp': -7.39,\n",
       "    'feels_like': -12.69,\n",
       "    'temp_min': -7.39,\n",
       "    'temp_max': -7.39,\n",
       "    'pressure': 1039,\n",
       "    'humidity': 91,\n",
       "    'sea_level': 1039,\n",
       "    'grnd_level': 1025},\n",
       "   'dt': 1674317699,\n",
       "   'wind': {'speed': 3.29, 'deg': 155},\n",
       "   'sys': {'country': 'RU'},\n",
       "   'rain': None,\n",
       "   'snow': None,\n",
       "   'clouds': {'all': 100},\n",
       "   'weather': [{'id': 804,\n",
       "     'main': 'Clouds',\n",
       "     'description': 'пасмурно',\n",
       "     'icon': '04n'}]}]}"
      ]
     },
     "execution_count": 18,
     "metadata": {},
     "output_type": "execute_result"
    }
   ],
   "source": [
    "with open('file.json', 'r') as file:\n",
    "    s = json.load(file)\n",
    "\n",
    "s"
   ]
  }
 ],
 "metadata": {
  "colab": {
   "provenance": []
  },
  "kernelspec": {
   "display_name": "Python 3 (ipykernel)",
   "language": "python",
   "name": "python3"
  },
  "language_info": {
   "codemirror_mode": {
    "name": "ipython",
    "version": 3
   },
   "file_extension": ".py",
   "mimetype": "text/x-python",
   "name": "python",
   "nbconvert_exporter": "python",
   "pygments_lexer": "ipython3",
   "version": "3.9.13"
  }
 },
 "nbformat": 4,
 "nbformat_minor": 1
}
