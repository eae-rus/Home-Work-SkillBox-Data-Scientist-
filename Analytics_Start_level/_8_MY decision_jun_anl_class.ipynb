{
 "cells": [
  {
   "cell_type": "markdown",
   "metadata": {
    "colab_type": "text",
    "id": "RbR5OTe50Za4"
   },
   "source": [
    "# Классы\n",
    "## Домашнее задание"
   ]
  },
  {
   "cell_type": "markdown",
   "metadata": {
    "colab_type": "text",
    "id": "Xh_DBCdu0Za5"
   },
   "source": [
    "### Вопросы по лекциям\n",
    "\n",
    "#### 1.\n",
    "\n",
    "Напишите название функции, которая является конструктором класса."
   ]
  },
  {
   "cell_type": "markdown",
   "metadata": {
    "colab_type": "text",
    "id": "8-Tj4AMg0Za6"
   },
   "source": [
    "**Ответ:** __init__ (слева и справа по два подчёркивания)"
   ]
  },
  {
   "cell_type": "markdown",
   "metadata": {
    "colab_type": "text",
    "id": "lf14yx330Za7"
   },
   "source": [
    "#### 2.\n",
    "\n",
    "На что указывает переменная `self`?"
   ]
  },
  {
   "cell_type": "markdown",
   "metadata": {
    "colab_type": "text",
    "id": "wI-0FWlF0Za8"
   },
   "source": [
    "**Ответ:** Ссылка на собственный объект (чтобы обращаться на свои атрибуты, функции и т.д.). В общем - к себе."
   ]
  },
  {
   "cell_type": "markdown",
   "metadata": {
    "colab_type": "text",
    "id": "j_8_O_nl0Za8"
   },
   "source": [
    "#### 3.\n",
    "С помощью какой функции можно проверить, что некая строка является именем одного из атрибутов объекта?"
   ]
  },
  {
   "cell_type": "markdown",
   "metadata": {
    "colab_type": "text",
    "id": "5h8ASTrV0Za9"
   },
   "source": [
    "**Ответ:** getattar()"
   ]
  },
  {
   "cell_type": "markdown",
   "metadata": {
    "colab_type": "text",
    "id": "G104VWgj0Za-"
   },
   "source": [
    "#### 4.\n",
    "Когда вызывается метод `__del__`? (относительно события удаления объекта)"
   ]
  },
  {
   "cell_type": "markdown",
   "metadata": {
    "colab_type": "text",
    "id": "Ukzoyxkn0Za-"
   },
   "source": [
    "**Ответ:** Когда пропадают все ссылки на объект"
   ]
  },
  {
   "cell_type": "markdown",
   "metadata": {
    "colab_type": "text",
    "id": "MkF-HyBM0ZbA"
   },
   "source": [
    "#### 5.\n",
    "Верно ли, что атрибут класса перекрывает атрибут объекта?"
   ]
  },
  {
   "cell_type": "markdown",
   "metadata": {
    "colab_type": "text",
    "id": "o7B52kVt0ZbC"
   },
   "source": [
    "**Ответ:** Нет"
   ]
  },
  {
   "cell_type": "markdown",
   "metadata": {
    "colab_type": "text",
    "id": "kSwZWV2B0ZbC"
   },
   "source": [
    "#### 6.\n",
    "Можно ли атрибуты базового класса вызывать в дочернем классе? Если да, то напишите, нет ли исклчений?"
   ]
  },
  {
   "cell_type": "markdown",
   "metadata": {
    "colab_type": "text",
    "id": "6i74Koih0ZbE"
   },
   "source": [
    "**Ответ:** Это стандартное поведение. Если какой-то атрибут/метод не найден в текущем объекте, то проверяется его класс, а потом родительский класс. Точный порядок определен в __mro__. Если нужно вызвать что-то из родительского класса принудительно в обход текущего, то используется функция super. При множественном наследовании могут возникнуть сложности."
   ]
  },
  {
   "cell_type": "markdown",
   "metadata": {
    "colab_type": "text",
    "id": "tl1St2O20ZbE"
   },
   "source": [
    "#### 7.\n",
    "Объясните своими словами для чего нужен метод `super`."
   ]
  },
  {
   "cell_type": "markdown",
   "metadata": {
    "colab_type": "text",
    "id": "rg3u1PoY0ZbF"
   },
   "source": [
    "**Ответ:** Для обращения к родительскому классу. Например, при перезгрузке родительского метода, хочу чтобы он выполнился, а потом уже осуществлялось что-то ещё, тогда пишу \"super().METHOD\" METHOD - требуемый метод."
   ]
  },
  {
   "cell_type": "markdown",
   "metadata": {
    "colab_type": "text",
    "id": "5AiJn8ut0ZbG"
   },
   "source": [
    "### Практика\n",
    "\n",
    "1. +Напишите класс `Fraction` для работы с дробями. Пусть дробь в нашем классе предстает в виде `числитель/знаменатель`. Дробное число должно создаваться по запросу `Fraction(a, b)`, где `a` – это числитель, а `b` – знаменатель дроби. \n",
    "2. +Добавьте возможность сложения (сложения через оператор сложения) для дроби. Предполагается, что операция сложения может проводиться как только между дробями, так и между дробью и целым числом. Результат операции должен быть представлен в виде дроби.\n",
    "3. +Добавьте возможность взятия разности (вычитания через оператор вычитания) для дробей. Предполагается, что операция вычитания может проводиться как только для двух дробей, так и для дроби и целого числа. Результат операции должен быть представлен в виде дроби.\n",
    "4. +Добавьте возможность умножения (умножения через оператор умножения) для дробей. Предполагается, что операция умножения может проводиться как только для двух дробей, так и для дроби и целого числа. Результат операции должен быть представлен в виде дроби.\n",
    "5. +Добавьте возможность приведения дроби к целому числу через стандартную функцию `int()`.\n",
    "6. +Добавьте возможность приведения дроби к числу с плавающей точкой через стандартную функцию `float()`.\n",
    "7. +Создайте дочерний класс `OperationsOnFraction` и добавьте туда собственные методы `getint` и `getfloat`, которые будут возвращать целую часть дроби и представление дроби в виде числа с плавающей точкой соответственно. \n",
    " "
   ]
  },
  {
   "cell_type": "code",
   "execution_count": 64,
   "metadata": {
    "colab": {},
    "colab_type": "code",
    "id": "ru3BJ52J0ZbG"
   },
   "outputs": [],
   "source": [
    "### YOUR CODE HERE ###\n",
    "\n",
    "class Fraction:\n",
    "    \"\"\"Данный класс описывает дробное число через 2 целочисленных (числитель / знаменатель)\"\"\"\n",
    "    \n",
    "    def __init__(self ,numerator: int, denominator: int):\n",
    "        self.numerator = numerator\n",
    "        self.denominator = denominator\n",
    "        \n",
    "    def gcd(a: int, b: int): #greatest common divisor\n",
    "        if abs(a) < abs(b):\n",
    "            i=a\n",
    "            while i>0:\n",
    "                if (a%i == 0) and (b%i == 0):\n",
    "                    return i\n",
    "                i-=1\n",
    "        else:\n",
    "            i=b\n",
    "            while i>0:\n",
    "                if (a%i == 0) and (b%i == 0):\n",
    "                    return i\n",
    "                i-=1\n",
    "        \n",
    "    def __add__(self, other):\n",
    "        if isinstance(other, Fraction):\n",
    "            new_numerator = self.numerator*other.denominator + other.numerator*self.denominator\n",
    "            new_denominator = self.denominator*other.denominator\n",
    "            new_gcd = gcd(new_numerator, new_denominator)\n",
    "            new_numerator = int(new_numerator/new_gcd)\n",
    "            new_denominator = int(new_denominator/new_gcd)\n",
    "            return Fraction(new_numerator, new_denominator)\n",
    "        elif isinstance(other, int):\n",
    "            new_numerator = self.numerator + other*self.denominator\n",
    "            new_denominator = self.denominator\n",
    "            return Fraction(new_numerator, new_denominator)\n",
    "        else:\n",
    "            print(\"Класс не соответствует\")\n",
    "    \n",
    "    def __sub__(self, other):\n",
    "        if isinstance(other, Fraction):\n",
    "            new_numerator = self.numerator*other.denominator - other.numerator*self.denominator\n",
    "            new_denominator = self.denominator*other.denominator\n",
    "            new_gcd = gcd(new_numerator, new_denominator)\n",
    "            new_numerator = int(new_numerator/new_gcd)\n",
    "            new_denominator = int(new_denominator/new_gcd)\n",
    "            return Fraction(new_numerator, new_denominator)\n",
    "        elif isinstance(other, int):\n",
    "            new_numerator = self.numerator - other*self.denominator\n",
    "            new_denominator = self.denominator\n",
    "            return Fraction(new_numerator, new_denominator)\n",
    "        else:\n",
    "            print(\"Класс не соответствует\")\n",
    "        \n",
    "    def __mul__(self, other):\n",
    "        if isinstance(other, Fraction):\n",
    "            new_numerator = self.numerator*other.numerator\n",
    "            new_denominator = self.denominator*other.denominator\n",
    "            new_gcd = gcd(new_numerator, new_denominator)\n",
    "            new_numerator = int(new_numerator/new_gcd)\n",
    "            new_denominator = int(new_denominator/new_gcd)\n",
    "            return Fraction(new_numerator, new_denominator)\n",
    "        elif isinstance(other, int):\n",
    "            new_numerator = self.numerator*other\n",
    "            new_denominator = self.denominator\n",
    "            new_gcd = gcd(new_numerator, new_denominator)\n",
    "            new_numerator = int(new_numerator/new_gcd)\n",
    "            new_denominator = int(new_denominator/new_gcd)\n",
    "            return Fraction(new_numerator, new_denominator)\n",
    "        else:\n",
    "            print(\"Класс не соответствует\")\n",
    "            \n",
    "    def __int__(self):\n",
    "        return self.numerator//self.denominator # усекается дробная часть, как и у обычного \"int\"\n",
    "    \n",
    "    def __float__(self):\n",
    "        return self.numerator/self.denominator\n",
    "    \n",
    "    def __str__(self):\n",
    "        return \"Числитель: {}, знаменатель: {}\".format(self.numerator, self.denominator)"
   ]
  },
  {
   "cell_type": "code",
   "execution_count": 76,
   "metadata": {},
   "outputs": [],
   "source": [
    "class OperationsOnFraction(Fraction):\n",
    "    \"\"\"Доачерний класс к Fraction, описывающий различные функции\"\"\"\n",
    "    \n",
    "    def getint(self):\n",
    "        return int(self)\n",
    "    \n",
    "    def getfloat(self):\n",
    "        return float(self)"
   ]
  },
  {
   "cell_type": "code",
   "execution_count": 65,
   "metadata": {},
   "outputs": [
    {
     "name": "stdout",
     "output_type": "stream",
     "text": [
      "Числитель: 3, знаменатель: 2\n",
      "Числитель: 1, знаменатель: 4\n"
     ]
    }
   ],
   "source": [
    "a = Fraction(numerator=3, denominator=2)\n",
    "print(a)\n",
    "b = Fraction(numerator=1, denominator=4)\n",
    "print(b)"
   ]
  },
  {
   "cell_type": "code",
   "execution_count": 66,
   "metadata": {},
   "outputs": [
    {
     "name": "stdout",
     "output_type": "stream",
     "text": [
      "Числитель: 7, знаменатель: 4\n",
      "Числитель: 5, знаменатель: 2\n"
     ]
    }
   ],
   "source": [
    "z = a+b\n",
    "print(z)\n",
    "z = a+1\n",
    "print(z)"
   ]
  },
  {
   "cell_type": "code",
   "execution_count": 67,
   "metadata": {},
   "outputs": [
    {
     "name": "stdout",
     "output_type": "stream",
     "text": [
      "Числитель: 5, знаменатель: 4\n",
      "Числитель: 1, знаменатель: 2\n"
     ]
    }
   ],
   "source": [
    "z = a-b\n",
    "print(z)\n",
    "z = a-1\n",
    "print(z)"
   ]
  },
  {
   "cell_type": "code",
   "execution_count": 68,
   "metadata": {},
   "outputs": [
    {
     "name": "stdout",
     "output_type": "stream",
     "text": [
      "Числитель: 3, знаменатель: 8\n",
      "Числитель: 3, знаменатель: 1\n"
     ]
    }
   ],
   "source": [
    "z = a*b\n",
    "print(z)\n",
    "z = a*2\n",
    "print(z)"
   ]
  },
  {
   "cell_type": "code",
   "execution_count": 70,
   "metadata": {},
   "outputs": [
    {
     "name": "stdout",
     "output_type": "stream",
     "text": [
      "1\n",
      "1.5\n"
     ]
    }
   ],
   "source": [
    "print(int(a))\n",
    "print(float(a))"
   ]
  },
  {
   "cell_type": "code",
   "execution_count": 77,
   "metadata": {},
   "outputs": [],
   "source": [
    "x = OperationsOnFraction(3,2)"
   ]
  },
  {
   "cell_type": "code",
   "execution_count": 79,
   "metadata": {},
   "outputs": [
    {
     "name": "stdout",
     "output_type": "stream",
     "text": [
      "1\n",
      "1.5\n"
     ]
    }
   ],
   "source": [
    "print(x.getint())\n",
    "print(x.getfloat())"
   ]
  },
  {
   "cell_type": "code",
   "execution_count": null,
   "metadata": {},
   "outputs": [],
   "source": []
  },
  {
   "cell_type": "code",
   "execution_count": null,
   "metadata": {},
   "outputs": [],
   "source": []
  }
 ],
 "metadata": {
  "colab": {
   "collapsed_sections": [],
   "name": "jun_anl_class.ipynb",
   "provenance": []
  },
  "kernelspec": {
   "display_name": "Python 3 (ipykernel)",
   "language": "python",
   "name": "python3"
  },
  "language_info": {
   "codemirror_mode": {
    "name": "ipython",
    "version": 3
   },
   "file_extension": ".py",
   "mimetype": "text/x-python",
   "name": "python",
   "nbconvert_exporter": "python",
   "pygments_lexer": "ipython3",
   "version": "3.9.12"
  }
 },
 "nbformat": 4,
 "nbformat_minor": 1
}
